{
 "cells": [
  {
   "cell_type": "markdown",
   "id": "bbde7be1",
   "metadata": {},
   "source": [
    "# Importing Libraries"
   ]
  },
  {
   "cell_type": "code",
   "execution_count": 153,
   "id": "9c910e66",
   "metadata": {},
   "outputs": [],
   "source": [
    "import pandas as pd\n",
    "\n",
    "import numpy as np\n",
    "\n",
    "import matplotlib.pyplot as plt\n",
    "\n",
    "import seaborn as sns\n",
    "\n",
    "import warnings\n",
    "warnings.filterwarnings(\"ignore\")"
   ]
  },
  {
   "cell_type": "code",
   "execution_count": 154,
   "id": "833e5b68",
   "metadata": {},
   "outputs": [
    {
     "data": {
      "text/html": [
       "<div>\n",
       "<style scoped>\n",
       "    .dataframe tbody tr th:only-of-type {\n",
       "        vertical-align: middle;\n",
       "    }\n",
       "\n",
       "    .dataframe tbody tr th {\n",
       "        vertical-align: top;\n",
       "    }\n",
       "\n",
       "    .dataframe thead th {\n",
       "        text-align: right;\n",
       "    }\n",
       "</style>\n",
       "<table border=\"1\" class=\"dataframe\">\n",
       "  <thead>\n",
       "    <tr style=\"text-align: right;\">\n",
       "      <th></th>\n",
       "      <th>age</th>\n",
       "      <th>gender</th>\n",
       "      <th>education</th>\n",
       "      <th>household_income</th>\n",
       "      <th>employment</th>\n",
       "      <th>marital_status</th>\n",
       "      <th>current_location</th>\n",
       "      <th>living_in_highly_affected_areas</th>\n",
       "      <th>knowing_infected_people</th>\n",
       "      <th>close_contact_with_infected_person</th>\n",
       "      <th>...</th>\n",
       "      <th>Estrangement from Others</th>\n",
       "      <th>Psychic Numbing</th>\n",
       "      <th>Foreshortened Future</th>\n",
       "      <th>Sleep Difficulty</th>\n",
       "      <th>Irritability/Anger</th>\n",
       "      <th>Concentration Imparied</th>\n",
       "      <th>Hypervigilant</th>\n",
       "      <th>Exaggerated Startle</th>\n",
       "      <th>Score</th>\n",
       "      <th>PTSD_Risk</th>\n",
       "    </tr>\n",
       "  </thead>\n",
       "  <tbody>\n",
       "    <tr>\n",
       "      <th>0</th>\n",
       "      <td>24-30</td>\n",
       "      <td>Male</td>\n",
       "      <td>Graduate</td>\n",
       "      <td>more than 50000</td>\n",
       "      <td>Unemployed</td>\n",
       "      <td>Single</td>\n",
       "      <td>Sylhet</td>\n",
       "      <td>No</td>\n",
       "      <td>Yes</td>\n",
       "      <td>Yes</td>\n",
       "      <td>...</td>\n",
       "      <td>3</td>\n",
       "      <td>3</td>\n",
       "      <td>1</td>\n",
       "      <td>3</td>\n",
       "      <td>1</td>\n",
       "      <td>1</td>\n",
       "      <td>1</td>\n",
       "      <td>1</td>\n",
       "      <td>25</td>\n",
       "      <td>No</td>\n",
       "    </tr>\n",
       "    <tr>\n",
       "      <th>1</th>\n",
       "      <td>24-30</td>\n",
       "      <td>Female</td>\n",
       "      <td>Graduate</td>\n",
       "      <td>less than 20000</td>\n",
       "      <td>Unemployed</td>\n",
       "      <td>Single</td>\n",
       "      <td>Chattogram</td>\n",
       "      <td>No</td>\n",
       "      <td>No</td>\n",
       "      <td>No</td>\n",
       "      <td>...</td>\n",
       "      <td>5</td>\n",
       "      <td>5</td>\n",
       "      <td>5</td>\n",
       "      <td>5</td>\n",
       "      <td>5</td>\n",
       "      <td>5</td>\n",
       "      <td>5</td>\n",
       "      <td>5</td>\n",
       "      <td>75</td>\n",
       "      <td>Yes</td>\n",
       "    </tr>\n",
       "    <tr>\n",
       "      <th>2</th>\n",
       "      <td>18-23</td>\n",
       "      <td>Female</td>\n",
       "      <td>Graduate</td>\n",
       "      <td>20000-34999</td>\n",
       "      <td>Student</td>\n",
       "      <td>Single</td>\n",
       "      <td>Chattogram</td>\n",
       "      <td>No</td>\n",
       "      <td>No</td>\n",
       "      <td>No</td>\n",
       "      <td>...</td>\n",
       "      <td>2</td>\n",
       "      <td>1</td>\n",
       "      <td>2</td>\n",
       "      <td>1</td>\n",
       "      <td>1</td>\n",
       "      <td>2</td>\n",
       "      <td>1</td>\n",
       "      <td>1</td>\n",
       "      <td>25</td>\n",
       "      <td>No</td>\n",
       "    </tr>\n",
       "    <tr>\n",
       "      <th>3</th>\n",
       "      <td>24-30</td>\n",
       "      <td>Female</td>\n",
       "      <td>Graduate</td>\n",
       "      <td>less than 20000</td>\n",
       "      <td>Student</td>\n",
       "      <td>Single</td>\n",
       "      <td>Chattogram</td>\n",
       "      <td>No</td>\n",
       "      <td>Yes</td>\n",
       "      <td>No</td>\n",
       "      <td>...</td>\n",
       "      <td>1</td>\n",
       "      <td>1</td>\n",
       "      <td>1</td>\n",
       "      <td>1</td>\n",
       "      <td>1</td>\n",
       "      <td>1</td>\n",
       "      <td>3</td>\n",
       "      <td>1</td>\n",
       "      <td>27</td>\n",
       "      <td>No</td>\n",
       "    </tr>\n",
       "    <tr>\n",
       "      <th>4</th>\n",
       "      <td>18-23</td>\n",
       "      <td>Male</td>\n",
       "      <td>Post-graduate</td>\n",
       "      <td>35000-50000</td>\n",
       "      <td>Unemployed</td>\n",
       "      <td>Single</td>\n",
       "      <td>Chattogram</td>\n",
       "      <td>No</td>\n",
       "      <td>No</td>\n",
       "      <td>Suspected</td>\n",
       "      <td>...</td>\n",
       "      <td>3</td>\n",
       "      <td>2</td>\n",
       "      <td>4</td>\n",
       "      <td>2</td>\n",
       "      <td>4</td>\n",
       "      <td>3</td>\n",
       "      <td>2</td>\n",
       "      <td>4</td>\n",
       "      <td>48</td>\n",
       "      <td>Yes</td>\n",
       "    </tr>\n",
       "  </tbody>\n",
       "</table>\n",
       "<p>5 rows × 37 columns</p>\n",
       "</div>"
      ],
      "text/plain": [
       "     age  gender      education household_income  employment marital_status  \\\n",
       "0  24-30    Male       Graduate  more than 50000  Unemployed         Single   \n",
       "1  24-30  Female       Graduate  less than 20000  Unemployed         Single   \n",
       "2  18-23  Female       Graduate      20000-34999     Student         Single   \n",
       "3  24-30  Female       Graduate  less than 20000     Student         Single   \n",
       "4  18-23    Male  Post-graduate      35000-50000  Unemployed         Single   \n",
       "\n",
       "  current_location living_in_highly_affected_areas knowing_infected_people  \\\n",
       "0           Sylhet                              No                     Yes   \n",
       "1       Chattogram                              No                      No   \n",
       "2       Chattogram                              No                      No   \n",
       "3       Chattogram                              No                     Yes   \n",
       "4       Chattogram                              No                      No   \n",
       "\n",
       "  close_contact_with_infected_person  ... Estrangement from Others  \\\n",
       "0                                Yes  ...                        3   \n",
       "1                                 No  ...                        5   \n",
       "2                                 No  ...                        2   \n",
       "3                                 No  ...                        1   \n",
       "4                          Suspected  ...                        3   \n",
       "\n",
       "  Psychic Numbing Foreshortened Future Sleep Difficulty Irritability/Anger  \\\n",
       "0               3                    1                3                  1   \n",
       "1               5                    5                5                  5   \n",
       "2               1                    2                1                  1   \n",
       "3               1                    1                1                  1   \n",
       "4               2                    4                2                  4   \n",
       "\n",
       "  Concentration Imparied Hypervigilant Exaggerated Startle  Score  PTSD_Risk  \n",
       "0                      1             1                   1     25         No  \n",
       "1                      5             5                   5     75        Yes  \n",
       "2                      2             1                   1     25         No  \n",
       "3                      1             3                   1     27         No  \n",
       "4                      3             2                   4     48        Yes  \n",
       "\n",
       "[5 rows x 37 columns]"
      ]
     },
     "execution_count": 154,
     "metadata": {},
     "output_type": "execute_result"
    }
   ],
   "source": [
    "# Load dataset\n",
    "\n",
    "dataset = pd.read_csv(\"D:/MSc_Thesis/Data/PTSD.csv\")\n",
    "dataset.head()"
   ]
  },
  {
   "cell_type": "code",
   "execution_count": 155,
   "id": "2c5f3458",
   "metadata": {},
   "outputs": [
    {
     "name": "stdout",
     "output_type": "stream",
     "text": [
      "<class 'pandas.core.frame.DataFrame'>\n",
      "RangeIndex: 181 entries, 0 to 180\n",
      "Data columns (total 37 columns):\n",
      " #   Column                                          Non-Null Count  Dtype \n",
      "---  ------                                          --------------  ----- \n",
      " 0   age                                             181 non-null    object\n",
      " 1   gender                                          181 non-null    object\n",
      " 2   education                                       181 non-null    object\n",
      " 3   household_income                                181 non-null    object\n",
      " 4   employment                                      181 non-null    object\n",
      " 5   marital_status                                  181 non-null    object\n",
      " 6   current_location                                181 non-null    object\n",
      " 7   living_in_highly_affected_areas                 181 non-null    object\n",
      " 8   knowing_infected_people                         181 non-null    object\n",
      " 9   close_contact_with_infected_person              181 non-null    object\n",
      " 10  covid_infected                                  181 non-null    object\n",
      " 11  hospitalized                                    181 non-null    object\n",
      " 12  isolated                                        181 non-null    object\n",
      " 13  working_outside_home                            181 non-null    object\n",
      " 14  fear_of_being_infected_or_infecting_loved_ones  181 non-null    object\n",
      " 15  family_or_friends_death                         181 non-null    object\n",
      " 16  chronic_illness                                 181 non-null    object\n",
      " 17  previous_psychiatric_history                    181 non-null    object\n",
      " 18  Intrusive Recollect                             181 non-null    int64 \n",
      " 19  Distressing Dreams                              181 non-null    int64 \n",
      " 20  Flashbacks                                      181 non-null    int64 \n",
      " 21  Upset by Reminders                              181 non-null    int64 \n",
      " 22  Physical Reaction to Reminders                  181 non-null    int64 \n",
      " 23  Avoid Thoughts                                  181 non-null    int64 \n",
      " 24  Avoid Reminders                                 181 non-null    int64 \n",
      " 25  Psychogenic Amnesia                             181 non-null    int64 \n",
      " 26  Anhedonia                                       181 non-null    int64 \n",
      " 27  Estrangement from Others                        181 non-null    int64 \n",
      " 28  Psychic Numbing                                 181 non-null    int64 \n",
      " 29  Foreshortened Future                            181 non-null    int64 \n",
      " 30  Sleep Difficulty                                181 non-null    int64 \n",
      " 31  Irritability/Anger                              181 non-null    int64 \n",
      " 32  Concentration Imparied                          181 non-null    int64 \n",
      " 33  Hypervigilant                                   181 non-null    int64 \n",
      " 34  Exaggerated Startle                             181 non-null    int64 \n",
      " 35  Score                                           181 non-null    int64 \n",
      " 36  PTSD_Risk                                       181 non-null    object\n",
      "dtypes: int64(18), object(19)\n",
      "memory usage: 52.4+ KB\n"
     ]
    }
   ],
   "source": [
    "dataset.info()"
   ]
  },
  {
   "cell_type": "code",
   "execution_count": 156,
   "id": "400d341a",
   "metadata": {},
   "outputs": [
    {
     "data": {
      "text/html": [
       "<div>\n",
       "<style scoped>\n",
       "    .dataframe tbody tr th:only-of-type {\n",
       "        vertical-align: middle;\n",
       "    }\n",
       "\n",
       "    .dataframe tbody tr th {\n",
       "        vertical-align: top;\n",
       "    }\n",
       "\n",
       "    .dataframe thead th {\n",
       "        text-align: right;\n",
       "    }\n",
       "</style>\n",
       "<table border=\"1\" class=\"dataframe\">\n",
       "  <thead>\n",
       "    <tr style=\"text-align: right;\">\n",
       "      <th></th>\n",
       "      <th>age</th>\n",
       "      <th>gender</th>\n",
       "      <th>education</th>\n",
       "      <th>household_income</th>\n",
       "      <th>employment</th>\n",
       "      <th>marital_status</th>\n",
       "      <th>current_location</th>\n",
       "      <th>living_in_highly_affected_areas</th>\n",
       "      <th>knowing_infected_people</th>\n",
       "      <th>close_contact_with_infected_person</th>\n",
       "      <th>covid_infected</th>\n",
       "      <th>hospitalized</th>\n",
       "      <th>isolated</th>\n",
       "      <th>working_outside_home</th>\n",
       "      <th>fear_of_being_infected_or_infecting_loved_ones</th>\n",
       "      <th>family_or_friends_death</th>\n",
       "      <th>chronic_illness</th>\n",
       "      <th>previous_psychiatric_history</th>\n",
       "      <th>PTSD_Risk</th>\n",
       "    </tr>\n",
       "  </thead>\n",
       "  <tbody>\n",
       "    <tr>\n",
       "      <th>0</th>\n",
       "      <td>24-30</td>\n",
       "      <td>Male</td>\n",
       "      <td>Graduate</td>\n",
       "      <td>more than 50000</td>\n",
       "      <td>Unemployed</td>\n",
       "      <td>Single</td>\n",
       "      <td>Sylhet</td>\n",
       "      <td>No</td>\n",
       "      <td>Yes</td>\n",
       "      <td>Yes</td>\n",
       "      <td>No</td>\n",
       "      <td>No</td>\n",
       "      <td>Yes</td>\n",
       "      <td>Yes</td>\n",
       "      <td>Yes</td>\n",
       "      <td>No</td>\n",
       "      <td>No</td>\n",
       "      <td>No</td>\n",
       "      <td>No</td>\n",
       "    </tr>\n",
       "    <tr>\n",
       "      <th>1</th>\n",
       "      <td>24-30</td>\n",
       "      <td>Female</td>\n",
       "      <td>Graduate</td>\n",
       "      <td>less than 20000</td>\n",
       "      <td>Unemployed</td>\n",
       "      <td>Single</td>\n",
       "      <td>Chattogram</td>\n",
       "      <td>No</td>\n",
       "      <td>No</td>\n",
       "      <td>No</td>\n",
       "      <td>No</td>\n",
       "      <td>No</td>\n",
       "      <td>No</td>\n",
       "      <td>Yes</td>\n",
       "      <td>Yes</td>\n",
       "      <td>No</td>\n",
       "      <td>No</td>\n",
       "      <td>No</td>\n",
       "      <td>Yes</td>\n",
       "    </tr>\n",
       "    <tr>\n",
       "      <th>2</th>\n",
       "      <td>18-23</td>\n",
       "      <td>Female</td>\n",
       "      <td>Graduate</td>\n",
       "      <td>20000-34999</td>\n",
       "      <td>Student</td>\n",
       "      <td>Single</td>\n",
       "      <td>Chattogram</td>\n",
       "      <td>No</td>\n",
       "      <td>No</td>\n",
       "      <td>No</td>\n",
       "      <td>No</td>\n",
       "      <td>No</td>\n",
       "      <td>No</td>\n",
       "      <td>No</td>\n",
       "      <td>No</td>\n",
       "      <td>No</td>\n",
       "      <td>No</td>\n",
       "      <td>No</td>\n",
       "      <td>No</td>\n",
       "    </tr>\n",
       "    <tr>\n",
       "      <th>3</th>\n",
       "      <td>24-30</td>\n",
       "      <td>Female</td>\n",
       "      <td>Graduate</td>\n",
       "      <td>less than 20000</td>\n",
       "      <td>Student</td>\n",
       "      <td>Single</td>\n",
       "      <td>Chattogram</td>\n",
       "      <td>No</td>\n",
       "      <td>Yes</td>\n",
       "      <td>No</td>\n",
       "      <td>No</td>\n",
       "      <td>No</td>\n",
       "      <td>No</td>\n",
       "      <td>No</td>\n",
       "      <td>Yes</td>\n",
       "      <td>No</td>\n",
       "      <td>No</td>\n",
       "      <td>No</td>\n",
       "      <td>No</td>\n",
       "    </tr>\n",
       "    <tr>\n",
       "      <th>4</th>\n",
       "      <td>18-23</td>\n",
       "      <td>Male</td>\n",
       "      <td>Post-graduate</td>\n",
       "      <td>35000-50000</td>\n",
       "      <td>Unemployed</td>\n",
       "      <td>Single</td>\n",
       "      <td>Chattogram</td>\n",
       "      <td>No</td>\n",
       "      <td>No</td>\n",
       "      <td>Suspected</td>\n",
       "      <td>No</td>\n",
       "      <td>No</td>\n",
       "      <td>No</td>\n",
       "      <td>Yes</td>\n",
       "      <td>Yes</td>\n",
       "      <td>Yes</td>\n",
       "      <td>No</td>\n",
       "      <td>No</td>\n",
       "      <td>Yes</td>\n",
       "    </tr>\n",
       "  </tbody>\n",
       "</table>\n",
       "</div>"
      ],
      "text/plain": [
       "     age  gender      education household_income  employment marital_status  \\\n",
       "0  24-30    Male       Graduate  more than 50000  Unemployed         Single   \n",
       "1  24-30  Female       Graduate  less than 20000  Unemployed         Single   \n",
       "2  18-23  Female       Graduate      20000-34999     Student         Single   \n",
       "3  24-30  Female       Graduate  less than 20000     Student         Single   \n",
       "4  18-23    Male  Post-graduate      35000-50000  Unemployed         Single   \n",
       "\n",
       "  current_location living_in_highly_affected_areas knowing_infected_people  \\\n",
       "0           Sylhet                              No                     Yes   \n",
       "1       Chattogram                              No                      No   \n",
       "2       Chattogram                              No                      No   \n",
       "3       Chattogram                              No                     Yes   \n",
       "4       Chattogram                              No                      No   \n",
       "\n",
       "  close_contact_with_infected_person covid_infected hospitalized isolated  \\\n",
       "0                                Yes             No           No      Yes   \n",
       "1                                 No             No           No       No   \n",
       "2                                 No             No           No       No   \n",
       "3                                 No             No           No       No   \n",
       "4                          Suspected             No           No       No   \n",
       "\n",
       "  working_outside_home fear_of_being_infected_or_infecting_loved_ones  \\\n",
       "0                  Yes                                            Yes   \n",
       "1                  Yes                                            Yes   \n",
       "2                   No                                             No   \n",
       "3                   No                                            Yes   \n",
       "4                  Yes                                            Yes   \n",
       "\n",
       "  family_or_friends_death chronic_illness previous_psychiatric_history  \\\n",
       "0                      No              No                           No   \n",
       "1                      No              No                           No   \n",
       "2                      No              No                           No   \n",
       "3                      No              No                           No   \n",
       "4                     Yes              No                           No   \n",
       "\n",
       "  PTSD_Risk  \n",
       "0        No  \n",
       "1       Yes  \n",
       "2        No  \n",
       "3        No  \n",
       "4       Yes  "
      ]
     },
     "execution_count": 156,
     "metadata": {},
     "output_type": "execute_result"
    }
   ],
   "source": [
    "# creating Dataframe\n",
    "\n",
    "df = dataset.iloc[:, 0:18]\n",
    "df = pd.concat([df,dataset.PTSD_Risk], axis = \"columns\")\n",
    "df.head()"
   ]
  },
  {
   "cell_type": "code",
   "execution_count": 157,
   "id": "5af0ef93",
   "metadata": {},
   "outputs": [
    {
     "data": {
      "text/plain": [
       "(181, 19)"
      ]
     },
     "execution_count": 157,
     "metadata": {},
     "output_type": "execute_result"
    }
   ],
   "source": [
    "#shape of the dataframe\n",
    "\n",
    "df.shape"
   ]
  },
  {
   "cell_type": "code",
   "execution_count": 158,
   "id": "269190f4",
   "metadata": {},
   "outputs": [
    {
     "data": {
      "text/html": [
       "<div>\n",
       "<style scoped>\n",
       "    .dataframe tbody tr th:only-of-type {\n",
       "        vertical-align: middle;\n",
       "    }\n",
       "\n",
       "    .dataframe tbody tr th {\n",
       "        vertical-align: top;\n",
       "    }\n",
       "\n",
       "    .dataframe thead th {\n",
       "        text-align: right;\n",
       "    }\n",
       "</style>\n",
       "<table border=\"1\" class=\"dataframe\">\n",
       "  <thead>\n",
       "    <tr style=\"text-align: right;\">\n",
       "      <th></th>\n",
       "      <th>age</th>\n",
       "      <th>gender</th>\n",
       "      <th>education</th>\n",
       "      <th>household_income</th>\n",
       "      <th>employment</th>\n",
       "      <th>marital_status</th>\n",
       "      <th>current_location</th>\n",
       "      <th>living_in_highly_affected_areas</th>\n",
       "      <th>knowing_infected_people</th>\n",
       "      <th>close_contact_with_infected_person</th>\n",
       "      <th>covid_infected</th>\n",
       "      <th>hospitalized</th>\n",
       "      <th>isolated</th>\n",
       "      <th>working_outside_home</th>\n",
       "      <th>fear_of_being_infected_or_infecting_loved_ones</th>\n",
       "      <th>family_or_friends_death</th>\n",
       "      <th>chronic_illness</th>\n",
       "      <th>previous_psychiatric_history</th>\n",
       "      <th>PTSD_Risk</th>\n",
       "    </tr>\n",
       "  </thead>\n",
       "  <tbody>\n",
       "    <tr>\n",
       "      <th>count</th>\n",
       "      <td>181</td>\n",
       "      <td>181</td>\n",
       "      <td>181</td>\n",
       "      <td>181</td>\n",
       "      <td>181</td>\n",
       "      <td>181</td>\n",
       "      <td>181</td>\n",
       "      <td>181</td>\n",
       "      <td>181</td>\n",
       "      <td>181</td>\n",
       "      <td>181</td>\n",
       "      <td>181</td>\n",
       "      <td>181</td>\n",
       "      <td>181</td>\n",
       "      <td>181</td>\n",
       "      <td>181</td>\n",
       "      <td>181</td>\n",
       "      <td>181</td>\n",
       "      <td>181</td>\n",
       "    </tr>\n",
       "    <tr>\n",
       "      <th>unique</th>\n",
       "      <td>3</td>\n",
       "      <td>2</td>\n",
       "      <td>4</td>\n",
       "      <td>4</td>\n",
       "      <td>5</td>\n",
       "      <td>2</td>\n",
       "      <td>7</td>\n",
       "      <td>2</td>\n",
       "      <td>3</td>\n",
       "      <td>3</td>\n",
       "      <td>3</td>\n",
       "      <td>2</td>\n",
       "      <td>2</td>\n",
       "      <td>2</td>\n",
       "      <td>2</td>\n",
       "      <td>2</td>\n",
       "      <td>2</td>\n",
       "      <td>2</td>\n",
       "      <td>2</td>\n",
       "    </tr>\n",
       "    <tr>\n",
       "      <th>top</th>\n",
       "      <td>24-30</td>\n",
       "      <td>Male</td>\n",
       "      <td>Graduate</td>\n",
       "      <td>less than 20000</td>\n",
       "      <td>Student</td>\n",
       "      <td>Single</td>\n",
       "      <td>Chattogram</td>\n",
       "      <td>No</td>\n",
       "      <td>Yes</td>\n",
       "      <td>No</td>\n",
       "      <td>No</td>\n",
       "      <td>No</td>\n",
       "      <td>No</td>\n",
       "      <td>No</td>\n",
       "      <td>Yes</td>\n",
       "      <td>No</td>\n",
       "      <td>No</td>\n",
       "      <td>No</td>\n",
       "      <td>No</td>\n",
       "    </tr>\n",
       "    <tr>\n",
       "      <th>freq</th>\n",
       "      <td>100</td>\n",
       "      <td>108</td>\n",
       "      <td>93</td>\n",
       "      <td>78</td>\n",
       "      <td>95</td>\n",
       "      <td>156</td>\n",
       "      <td>126</td>\n",
       "      <td>137</td>\n",
       "      <td>110</td>\n",
       "      <td>121</td>\n",
       "      <td>156</td>\n",
       "      <td>180</td>\n",
       "      <td>158</td>\n",
       "      <td>98</td>\n",
       "      <td>146</td>\n",
       "      <td>134</td>\n",
       "      <td>169</td>\n",
       "      <td>173</td>\n",
       "      <td>101</td>\n",
       "    </tr>\n",
       "  </tbody>\n",
       "</table>\n",
       "</div>"
      ],
      "text/plain": [
       "          age gender education household_income employment marital_status  \\\n",
       "count     181    181       181              181        181            181   \n",
       "unique      3      2         4                4          5              2   \n",
       "top     24-30   Male  Graduate  less than 20000    Student         Single   \n",
       "freq      100    108        93               78         95            156   \n",
       "\n",
       "       current_location living_in_highly_affected_areas  \\\n",
       "count               181                             181   \n",
       "unique                7                               2   \n",
       "top          Chattogram                              No   \n",
       "freq                126                             137   \n",
       "\n",
       "       knowing_infected_people close_contact_with_infected_person  \\\n",
       "count                      181                                181   \n",
       "unique                       3                                  3   \n",
       "top                        Yes                                 No   \n",
       "freq                       110                                121   \n",
       "\n",
       "       covid_infected hospitalized isolated working_outside_home  \\\n",
       "count             181          181      181                  181   \n",
       "unique              3            2        2                    2   \n",
       "top                No           No       No                   No   \n",
       "freq              156          180      158                   98   \n",
       "\n",
       "       fear_of_being_infected_or_infecting_loved_ones family_or_friends_death  \\\n",
       "count                                             181                     181   \n",
       "unique                                              2                       2   \n",
       "top                                               Yes                      No   \n",
       "freq                                              146                     134   \n",
       "\n",
       "       chronic_illness previous_psychiatric_history PTSD_Risk  \n",
       "count              181                          181       181  \n",
       "unique               2                            2         2  \n",
       "top                 No                           No        No  \n",
       "freq               169                          173       101  "
      ]
     },
     "execution_count": 158,
     "metadata": {},
     "output_type": "execute_result"
    }
   ],
   "source": [
    "#summary of dataframe\n",
    "\n",
    "df.describe()"
   ]
  },
  {
   "cell_type": "code",
   "execution_count": 159,
   "id": "2e296a07",
   "metadata": {},
   "outputs": [
    {
     "data": {
      "text/plain": [
       "age                                               0\n",
       "gender                                            0\n",
       "education                                         0\n",
       "household_income                                  0\n",
       "employment                                        0\n",
       "marital_status                                    0\n",
       "current_location                                  0\n",
       "living_in_highly_affected_areas                   0\n",
       "knowing_infected_people                           0\n",
       "close_contact_with_infected_person                0\n",
       "covid_infected                                    0\n",
       "hospitalized                                      0\n",
       "isolated                                          0\n",
       "working_outside_home                              0\n",
       "fear_of_being_infected_or_infecting_loved_ones    0\n",
       "family_or_friends_death                           0\n",
       "chronic_illness                                   0\n",
       "previous_psychiatric_history                      0\n",
       "PTSD_Risk                                         0\n",
       "dtype: int64"
      ]
     },
     "execution_count": 159,
     "metadata": {},
     "output_type": "execute_result"
    }
   ],
   "source": [
    "#checking null values\n",
    "\n",
    "df.isnull().sum()"
   ]
  },
  {
   "cell_type": "markdown",
   "id": "f513a838",
   "metadata": {},
   "source": [
    "# Data Visualization"
   ]
  },
  {
   "cell_type": "code",
   "execution_count": 160,
   "id": "a17df5e2",
   "metadata": {},
   "outputs": [
    {
     "data": {
      "text/plain": [
       "<AxesSubplot:xlabel='PTSD_Risk', ylabel='count'>"
      ]
     },
     "execution_count": 160,
     "metadata": {},
     "output_type": "execute_result"
    },
    {
     "data": {
      "image/png": "[encoded data removed]",
      "text/plain": [
       "<Figure size 504x360 with 1 Axes>"
      ]
     },
     "metadata": {
      "needs_background": "light"
     },
     "output_type": "display_data"
    }
   ],
   "source": [
    "plt.figure(figsize = (7, 5))\n",
    "sns.countplot(x = \"PTSD_Risk\", data = df)"
   ]
  },
  {
   "cell_type": "code",
   "execution_count": 161,
   "id": "dc789f8e",
   "metadata": {},
   "outputs": [
    {
     "data": {
      "text/plain": [
       "No     101\n",
       "Yes     80\n",
       "Name: PTSD_Risk, dtype: int64"
      ]
     },
     "execution_count": 161,
     "metadata": {},
     "output_type": "execute_result"
    }
   ],
   "source": [
    "df.PTSD_Risk.value_counts()"
   ]
  },
  {
   "cell_type": "code",
   "execution_count": 162,
   "id": "f7155487",
   "metadata": {},
   "outputs": [
    {
     "data": {
      "text/plain": [
       "<AxesSubplot:ylabel='PTSD_Risk'>"
      ]
     },
     "execution_count": 162,
     "metadata": {},
     "output_type": "execute_result"
    },
    {
     "data": {
      "image/png": "[encoded data removed]",
      "text/plain": [
       "<Figure size 432x288 with 1 Axes>"
      ]
     },
     "metadata": {},
     "output_type": "display_data"
    }
   ],
   "source": [
    "df.PTSD_Risk.value_counts().plot.pie(explode=[0.05,0.05],autopct=\"%1.1f%%\",shadow=True)"
   ]
  },
  {
   "cell_type": "code",
   "execution_count": 163,
   "id": "f1f37fd5",
   "metadata": {},
   "outputs": [
    {
     "data": {
      "text/plain": [
       "Index(['age', 'gender', 'education', 'household_income', 'employment',\n",
       "       'marital_status', 'current_location', 'living_in_highly_affected_areas',\n",
       "       'knowing_infected_people', 'close_contact_with_infected_person',\n",
       "       'covid_infected', 'hospitalized', 'isolated', 'working_outside_home',\n",
       "       'fear_of_being_infected_or_infecting_loved_ones',\n",
       "       'family_or_friends_death', 'chronic_illness',\n",
       "       'previous_psychiatric_history', 'PTSD_Risk'],\n",
       "      dtype='object')"
      ]
     },
     "execution_count": 163,
     "metadata": {},
     "output_type": "execute_result"
    }
   ],
   "source": [
    "feature = df.columns\n",
    "feature"
   ]
  },
  {
   "cell_type": "code",
   "execution_count": 164,
   "id": "f026093b",
   "metadata": {},
   "outputs": [
    {
     "data": {
      "text/plain": [
       "[(0, 'age'),\n",
       " (1, 'gender'),\n",
       " (2, 'education'),\n",
       " (3, 'household_income'),\n",
       " (4, 'employment'),\n",
       " (5, 'marital_status'),\n",
       " (6, 'current_location'),\n",
       " (7, 'living_in_highly_affected_areas'),\n",
       " (8, 'knowing_infected_people'),\n",
       " (9, 'close_contact_with_infected_person'),\n",
       " (10, 'covid_infected'),\n",
       " (11, 'hospitalized'),\n",
       " (12, 'isolated'),\n",
       " (13, 'working_outside_home'),\n",
       " (14, 'fear_of_being_infected_or_infecting_loved_ones'),\n",
       " (15, 'family_or_friends_death'),\n",
       " (16, 'chronic_illness'),\n",
       " (17, 'previous_psychiatric_history'),\n",
       " (18, 'PTSD_Risk')]"
      ]
     },
     "execution_count": 164,
     "metadata": {},
     "output_type": "execute_result"
    }
   ],
   "source": [
    "list(enumerate(feature))"
   ]
  },
  {
   "cell_type": "code",
   "execution_count": 165,
   "id": "5f4d1660",
   "metadata": {},
   "outputs": [
    {
     "data": {
      "text/plain": [
       "Index(['age', 'gender', 'education', 'household_income', 'employment',\n",
       "       'marital_status', 'current_location', 'living_in_highly_affected_areas',\n",
       "       'knowing_infected_people', 'close_contact_with_infected_person',\n",
       "       'covid_infected', 'hospitalized', 'isolated', 'working_outside_home',\n",
       "       'fear_of_being_infected_or_infecting_loved_ones',\n",
       "       'family_or_friends_death', 'chronic_illness',\n",
       "       'previous_psychiatric_history'],\n",
       "      dtype='object')"
      ]
     },
     "execution_count": 165,
     "metadata": {},
     "output_type": "execute_result"
    }
   ],
   "source": [
    "feature = np.delete(feature,18)\n",
    "feature"
   ]
  },
  {
   "cell_type": "code",
   "execution_count": 166,
   "id": "dfa1c0b6",
   "metadata": {},
   "outputs": [
    {
     "data": {
      "image/png": "[encoded data removed]",
      "text/plain": [
       "<Figure size 1152x2304 with 18 Axes>"
      ]
     },
     "metadata": {
      "needs_background": "light"
     },
     "output_type": "display_data"
    }
   ],
   "source": [
    "plt.figure(figsize = (16, 32))\n",
    "for i in enumerate(feature):\n",
    "    plt.subplot(6, 3, i[0]+1)\n",
    "    sns.countplot(i[1], data = df)\n",
    "    plt.xticks(rotation = 11)"
   ]
  },
  {
   "cell_type": "code",
   "execution_count": 167,
   "id": "db73e2fe",
   "metadata": {},
   "outputs": [
    {
     "data": {
      "image/png": "[encoded data removed]",
      "text/plain": [
       "<Figure size 1152x2304 with 18 Axes>"
      ]
     },
     "metadata": {
      "needs_background": "light"
     },
     "output_type": "display_data"
    }
   ],
   "source": [
    "plt.figure(figsize = (16, 32))\n",
    "for i in enumerate(feature):\n",
    "    plt.subplot(6, 3, i[0]+1)\n",
    "    sns.countplot(i[1],hue = \"PTSD_Risk\", data = df)\n",
    "    plt.xticks(rotation = 11)"
   ]
  },
  {
   "cell_type": "code",
   "execution_count": 168,
   "id": "bb57df28",
   "metadata": {},
   "outputs": [
    {
     "data": {
      "text/html": [
       "<div>\n",
       "<style scoped>\n",
       "    .dataframe tbody tr th:only-of-type {\n",
       "        vertical-align: middle;\n",
       "    }\n",
       "\n",
       "    .dataframe tbody tr th {\n",
       "        vertical-align: top;\n",
       "    }\n",
       "\n",
       "    .dataframe thead th {\n",
       "        text-align: right;\n",
       "    }\n",
       "</style>\n",
       "<table border=\"1\" class=\"dataframe\">\n",
       "  <thead>\n",
       "    <tr style=\"text-align: right;\">\n",
       "      <th></th>\n",
       "      <th>age</th>\n",
       "      <th>gender</th>\n",
       "      <th>education</th>\n",
       "      <th>household_income</th>\n",
       "      <th>employment</th>\n",
       "      <th>marital_status</th>\n",
       "      <th>living_in_highly_affected_areas</th>\n",
       "      <th>knowing_infected_people</th>\n",
       "      <th>close_contact_with_infected_person</th>\n",
       "      <th>covid_infected</th>\n",
       "      <th>isolated</th>\n",
       "      <th>working_outside_home</th>\n",
       "      <th>fear_of_being_infected_or_infecting_loved_ones</th>\n",
       "      <th>family_or_friends_death</th>\n",
       "      <th>chronic_illness</th>\n",
       "      <th>previous_psychiatric_history</th>\n",
       "      <th>PTSD_Risk</th>\n",
       "    </tr>\n",
       "  </thead>\n",
       "  <tbody>\n",
       "    <tr>\n",
       "      <th>0</th>\n",
       "      <td>24-30</td>\n",
       "      <td>Male</td>\n",
       "      <td>Graduate</td>\n",
       "      <td>more than 50000</td>\n",
       "      <td>Unemployed</td>\n",
       "      <td>Single</td>\n",
       "      <td>No</td>\n",
       "      <td>Yes</td>\n",
       "      <td>Yes</td>\n",
       "      <td>No</td>\n",
       "      <td>Yes</td>\n",
       "      <td>Yes</td>\n",
       "      <td>Yes</td>\n",
       "      <td>No</td>\n",
       "      <td>No</td>\n",
       "      <td>No</td>\n",
       "      <td>No</td>\n",
       "    </tr>\n",
       "    <tr>\n",
       "      <th>1</th>\n",
       "      <td>24-30</td>\n",
       "      <td>Female</td>\n",
       "      <td>Graduate</td>\n",
       "      <td>less than 20000</td>\n",
       "      <td>Unemployed</td>\n",
       "      <td>Single</td>\n",
       "      <td>No</td>\n",
       "      <td>No</td>\n",
       "      <td>No</td>\n",
       "      <td>No</td>\n",
       "      <td>No</td>\n",
       "      <td>Yes</td>\n",
       "      <td>Yes</td>\n",
       "      <td>No</td>\n",
       "      <td>No</td>\n",
       "      <td>No</td>\n",
       "      <td>Yes</td>\n",
       "    </tr>\n",
       "    <tr>\n",
       "      <th>2</th>\n",
       "      <td>18-23</td>\n",
       "      <td>Female</td>\n",
       "      <td>Graduate</td>\n",
       "      <td>20000-34999</td>\n",
       "      <td>Student</td>\n",
       "      <td>Single</td>\n",
       "      <td>No</td>\n",
       "      <td>No</td>\n",
       "      <td>No</td>\n",
       "      <td>No</td>\n",
       "      <td>No</td>\n",
       "      <td>No</td>\n",
       "      <td>No</td>\n",
       "      <td>No</td>\n",
       "      <td>No</td>\n",
       "      <td>No</td>\n",
       "      <td>No</td>\n",
       "    </tr>\n",
       "    <tr>\n",
       "      <th>3</th>\n",
       "      <td>24-30</td>\n",
       "      <td>Female</td>\n",
       "      <td>Graduate</td>\n",
       "      <td>less than 20000</td>\n",
       "      <td>Student</td>\n",
       "      <td>Single</td>\n",
       "      <td>No</td>\n",
       "      <td>Yes</td>\n",
       "      <td>No</td>\n",
       "      <td>No</td>\n",
       "      <td>No</td>\n",
       "      <td>No</td>\n",
       "      <td>Yes</td>\n",
       "      <td>No</td>\n",
       "      <td>No</td>\n",
       "      <td>No</td>\n",
       "      <td>No</td>\n",
       "    </tr>\n",
       "    <tr>\n",
       "      <th>4</th>\n",
       "      <td>18-23</td>\n",
       "      <td>Male</td>\n",
       "      <td>Post-graduate</td>\n",
       "      <td>35000-50000</td>\n",
       "      <td>Unemployed</td>\n",
       "      <td>Single</td>\n",
       "      <td>No</td>\n",
       "      <td>No</td>\n",
       "      <td>Suspected</td>\n",
       "      <td>No</td>\n",
       "      <td>No</td>\n",
       "      <td>Yes</td>\n",
       "      <td>Yes</td>\n",
       "      <td>Yes</td>\n",
       "      <td>No</td>\n",
       "      <td>No</td>\n",
       "      <td>Yes</td>\n",
       "    </tr>\n",
       "  </tbody>\n",
       "</table>\n",
       "</div>"
      ],
      "text/plain": [
       "     age  gender      education household_income  employment marital_status  \\\n",
       "0  24-30    Male       Graduate  more than 50000  Unemployed         Single   \n",
       "1  24-30  Female       Graduate  less than 20000  Unemployed         Single   \n",
       "2  18-23  Female       Graduate      20000-34999     Student         Single   \n",
       "3  24-30  Female       Graduate  less than 20000     Student         Single   \n",
       "4  18-23    Male  Post-graduate      35000-50000  Unemployed         Single   \n",
       "\n",
       "  living_in_highly_affected_areas knowing_infected_people  \\\n",
       "0                              No                     Yes   \n",
       "1                              No                      No   \n",
       "2                              No                      No   \n",
       "3                              No                     Yes   \n",
       "4                              No                      No   \n",
       "\n",
       "  close_contact_with_infected_person covid_infected isolated  \\\n",
       "0                                Yes             No      Yes   \n",
       "1                                 No             No       No   \n",
       "2                                 No             No       No   \n",
       "3                                 No             No       No   \n",
       "4                          Suspected             No       No   \n",
       "\n",
       "  working_outside_home fear_of_being_infected_or_infecting_loved_ones  \\\n",
       "0                  Yes                                            Yes   \n",
       "1                  Yes                                            Yes   \n",
       "2                   No                                             No   \n",
       "3                   No                                            Yes   \n",
       "4                  Yes                                            Yes   \n",
       "\n",
       "  family_or_friends_death chronic_illness previous_psychiatric_history  \\\n",
       "0                      No              No                           No   \n",
       "1                      No              No                           No   \n",
       "2                      No              No                           No   \n",
       "3                      No              No                           No   \n",
       "4                     Yes              No                           No   \n",
       "\n",
       "  PTSD_Risk  \n",
       "0        No  \n",
       "1       Yes  \n",
       "2        No  \n",
       "3        No  \n",
       "4       Yes  "
      ]
     },
     "execution_count": 168,
     "metadata": {},
     "output_type": "execute_result"
    }
   ],
   "source": [
    "df_2 = df.drop([\"current_location\", \"hospitalized\"], axis = \"columns\")\n",
    "df_2.head()"
   ]
  },
  {
   "cell_type": "markdown",
   "id": "f2fe6680",
   "metadata": {},
   "source": [
    "# Categorical to Numerical"
   ]
  },
  {
   "cell_type": "code",
   "execution_count": 169,
   "id": "fed6ef7b",
   "metadata": {},
   "outputs": [
    {
     "data": {
      "text/html": [
       "<div>\n",
       "<style scoped>\n",
       "    .dataframe tbody tr th:only-of-type {\n",
       "        vertical-align: middle;\n",
       "    }\n",
       "\n",
       "    .dataframe tbody tr th {\n",
       "        vertical-align: top;\n",
       "    }\n",
       "\n",
       "    .dataframe thead th {\n",
       "        text-align: right;\n",
       "    }\n",
       "</style>\n",
       "<table border=\"1\" class=\"dataframe\">\n",
       "  <thead>\n",
       "    <tr style=\"text-align: right;\">\n",
       "      <th></th>\n",
       "      <th>age</th>\n",
       "      <th>gender</th>\n",
       "      <th>education</th>\n",
       "      <th>household_income</th>\n",
       "      <th>employment</th>\n",
       "      <th>marital_status</th>\n",
       "      <th>living_in_highly_affected_areas</th>\n",
       "      <th>knowing_infected_people</th>\n",
       "      <th>close_contact_with_infected_person</th>\n",
       "      <th>covid_infected</th>\n",
       "      <th>isolated</th>\n",
       "      <th>working_outside_home</th>\n",
       "      <th>fear_of_being_infected_or_infecting_loved_ones</th>\n",
       "      <th>family_or_friends_death</th>\n",
       "      <th>chronic_illness</th>\n",
       "      <th>previous_psychiatric_history</th>\n",
       "      <th>PTSD_Risk</th>\n",
       "    </tr>\n",
       "  </thead>\n",
       "  <tbody>\n",
       "    <tr>\n",
       "      <th>0</th>\n",
       "      <td>24-30</td>\n",
       "      <td>Male</td>\n",
       "      <td>Graduate</td>\n",
       "      <td>more than 50000</td>\n",
       "      <td>Unemployed</td>\n",
       "      <td>Single</td>\n",
       "      <td>No</td>\n",
       "      <td>Yes</td>\n",
       "      <td>Yes</td>\n",
       "      <td>No</td>\n",
       "      <td>Yes</td>\n",
       "      <td>Yes</td>\n",
       "      <td>Yes</td>\n",
       "      <td>No</td>\n",
       "      <td>No</td>\n",
       "      <td>No</td>\n",
       "      <td>No</td>\n",
       "    </tr>\n",
       "    <tr>\n",
       "      <th>1</th>\n",
       "      <td>24-30</td>\n",
       "      <td>Female</td>\n",
       "      <td>Graduate</td>\n",
       "      <td>less than 20000</td>\n",
       "      <td>Unemployed</td>\n",
       "      <td>Single</td>\n",
       "      <td>No</td>\n",
       "      <td>No</td>\n",
       "      <td>No</td>\n",
       "      <td>No</td>\n",
       "      <td>No</td>\n",
       "      <td>Yes</td>\n",
       "      <td>Yes</td>\n",
       "      <td>No</td>\n",
       "      <td>No</td>\n",
       "      <td>No</td>\n",
       "      <td>Yes</td>\n",
       "    </tr>\n",
       "    <tr>\n",
       "      <th>2</th>\n",
       "      <td>18-23</td>\n",
       "      <td>Female</td>\n",
       "      <td>Graduate</td>\n",
       "      <td>20000-34999</td>\n",
       "      <td>Student</td>\n",
       "      <td>Single</td>\n",
       "      <td>No</td>\n",
       "      <td>No</td>\n",
       "      <td>No</td>\n",
       "      <td>No</td>\n",
       "      <td>No</td>\n",
       "      <td>No</td>\n",
       "      <td>No</td>\n",
       "      <td>No</td>\n",
       "      <td>No</td>\n",
       "      <td>No</td>\n",
       "      <td>No</td>\n",
       "    </tr>\n",
       "    <tr>\n",
       "      <th>3</th>\n",
       "      <td>24-30</td>\n",
       "      <td>Female</td>\n",
       "      <td>Graduate</td>\n",
       "      <td>less than 20000</td>\n",
       "      <td>Student</td>\n",
       "      <td>Single</td>\n",
       "      <td>No</td>\n",
       "      <td>Yes</td>\n",
       "      <td>No</td>\n",
       "      <td>No</td>\n",
       "      <td>No</td>\n",
       "      <td>No</td>\n",
       "      <td>Yes</td>\n",
       "      <td>No</td>\n",
       "      <td>No</td>\n",
       "      <td>No</td>\n",
       "      <td>No</td>\n",
       "    </tr>\n",
       "    <tr>\n",
       "      <th>4</th>\n",
       "      <td>18-23</td>\n",
       "      <td>Male</td>\n",
       "      <td>Post-graduate</td>\n",
       "      <td>35000-50000</td>\n",
       "      <td>Unemployed</td>\n",
       "      <td>Single</td>\n",
       "      <td>No</td>\n",
       "      <td>No</td>\n",
       "      <td>Suspected</td>\n",
       "      <td>No</td>\n",
       "      <td>No</td>\n",
       "      <td>Yes</td>\n",
       "      <td>Yes</td>\n",
       "      <td>Yes</td>\n",
       "      <td>No</td>\n",
       "      <td>No</td>\n",
       "      <td>Yes</td>\n",
       "    </tr>\n",
       "  </tbody>\n",
       "</table>\n",
       "</div>"
      ],
      "text/plain": [
       "     age  gender      education household_income  employment marital_status  \\\n",
       "0  24-30    Male       Graduate  more than 50000  Unemployed         Single   \n",
       "1  24-30  Female       Graduate  less than 20000  Unemployed         Single   \n",
       "2  18-23  Female       Graduate      20000-34999     Student         Single   \n",
       "3  24-30  Female       Graduate  less than 20000     Student         Single   \n",
       "4  18-23    Male  Post-graduate      35000-50000  Unemployed         Single   \n",
       "\n",
       "  living_in_highly_affected_areas knowing_infected_people  \\\n",
       "0                              No                     Yes   \n",
       "1                              No                      No   \n",
       "2                              No                      No   \n",
       "3                              No                     Yes   \n",
       "4                              No                      No   \n",
       "\n",
       "  close_contact_with_infected_person covid_infected isolated  \\\n",
       "0                                Yes             No      Yes   \n",
       "1                                 No             No       No   \n",
       "2                                 No             No       No   \n",
       "3                                 No             No       No   \n",
       "4                          Suspected             No       No   \n",
       "\n",
       "  working_outside_home fear_of_being_infected_or_infecting_loved_ones  \\\n",
       "0                  Yes                                            Yes   \n",
       "1                  Yes                                            Yes   \n",
       "2                   No                                             No   \n",
       "3                   No                                            Yes   \n",
       "4                  Yes                                            Yes   \n",
       "\n",
       "  family_or_friends_death chronic_illness previous_psychiatric_history  \\\n",
       "0                      No              No                           No   \n",
       "1                      No              No                           No   \n",
       "2                      No              No                           No   \n",
       "3                      No              No                           No   \n",
       "4                     Yes              No                           No   \n",
       "\n",
       "  PTSD_Risk  \n",
       "0        No  \n",
       "1       Yes  \n",
       "2        No  \n",
       "3        No  \n",
       "4       Yes  "
      ]
     },
     "execution_count": 169,
     "metadata": {},
     "output_type": "execute_result"
    }
   ],
   "source": [
    "dataframe = df_2\n",
    "dataframe.head(5)"
   ]
  },
  {
   "cell_type": "code",
   "execution_count": 170,
   "id": "f9e54755",
   "metadata": {},
   "outputs": [
    {
     "data": {
      "text/plain": [
       "count     181\n",
       "unique      2\n",
       "top        No\n",
       "freq      137\n",
       "Name: living_in_highly_affected_areas, dtype: object"
      ]
     },
     "execution_count": 170,
     "metadata": {},
     "output_type": "execute_result"
    }
   ],
   "source": [
    "#checking unique values in column\n",
    "\n",
    "dataframe[\"living_in_highly_affected_areas\"].describe()"
   ]
  },
  {
   "cell_type": "code",
   "execution_count": 171,
   "id": "6413b079",
   "metadata": {},
   "outputs": [],
   "source": [
    "#coding yes into 1 and no into 0\n",
    "f = lambda x: 0 if x == \"No\" else 1"
   ]
  },
  {
   "cell_type": "code",
   "execution_count": 172,
   "id": "aef7c5e1",
   "metadata": {},
   "outputs": [
    {
     "data": {
      "text/plain": [
       "0    137\n",
       "1     44\n",
       "Name: living_in_highly_affected_areas, dtype: int64"
      ]
     },
     "execution_count": 172,
     "metadata": {},
     "output_type": "execute_result"
    }
   ],
   "source": [
    "dataframe[\"living_in_highly_affected_areas\"] = dataframe[\"living_in_highly_affected_areas\"].apply(f)\n",
    "dataframe.living_in_highly_affected_areas.value_counts()"
   ]
  },
  {
   "cell_type": "code",
   "execution_count": 173,
   "id": "7f67b394",
   "metadata": {},
   "outputs": [
    {
     "data": {
      "text/plain": [
       "Yes          110\n",
       "No            61\n",
       "Suspected     10\n",
       "Name: knowing_infected_people, dtype: int64"
      ]
     },
     "execution_count": 173,
     "metadata": {},
     "output_type": "execute_result"
    }
   ],
   "source": [
    "dataframe[\"knowing_infected_people\"].value_counts()"
   ]
  },
  {
   "cell_type": "code",
   "execution_count": 174,
   "id": "f07b8473",
   "metadata": {},
   "outputs": [],
   "source": [
    "#coding  no into 0, yes into 1 and suspected into 2\n",
    "f_1 = lambda x: 0 if x == \"No\" else (1 if x == \"Yes\" else 2)"
   ]
  },
  {
   "cell_type": "code",
   "execution_count": 175,
   "id": "7f0e6504",
   "metadata": {},
   "outputs": [
    {
     "data": {
      "text/plain": [
       "1    110\n",
       "0     61\n",
       "2     10\n",
       "Name: knowing_infected_people, dtype: int64"
      ]
     },
     "execution_count": 175,
     "metadata": {},
     "output_type": "execute_result"
    }
   ],
   "source": [
    "dataframe[\"knowing_infected_people\"] = dataframe[\"knowing_infected_people\"].apply(f_1)\n",
    "dataframe[\"knowing_infected_people\"].value_counts()"
   ]
  },
  {
   "cell_type": "code",
   "execution_count": 176,
   "id": "34673438",
   "metadata": {},
   "outputs": [
    {
     "data": {
      "text/plain": [
       "No           121\n",
       "Yes           48\n",
       "Suspected     12\n",
       "Name: close_contact_with_infected_person, dtype: int64"
      ]
     },
     "execution_count": 176,
     "metadata": {},
     "output_type": "execute_result"
    }
   ],
   "source": [
    "dataframe[\"close_contact_with_infected_person\"].value_counts()"
   ]
  },
  {
   "cell_type": "code",
   "execution_count": 177,
   "id": "3e7a5281",
   "metadata": {},
   "outputs": [
    {
     "data": {
      "text/plain": [
       "0    121\n",
       "1     48\n",
       "2     12\n",
       "Name: close_contact_with_infected_person, dtype: int64"
      ]
     },
     "execution_count": 177,
     "metadata": {},
     "output_type": "execute_result"
    }
   ],
   "source": [
    "dataframe[\"close_contact_with_infected_person\"] = dataframe[\"close_contact_with_infected_person\"].apply(f_1)\n",
    "dataframe[\"close_contact_with_infected_person\"].value_counts()"
   ]
  },
  {
   "cell_type": "code",
   "execution_count": 178,
   "id": "ae1b5380",
   "metadata": {},
   "outputs": [
    {
     "data": {
      "text/plain": [
       "No           156\n",
       "Yes           14\n",
       "Suspected     11\n",
       "Name: covid_infected, dtype: int64"
      ]
     },
     "execution_count": 178,
     "metadata": {},
     "output_type": "execute_result"
    }
   ],
   "source": [
    "dataframe[\"covid_infected\"].value_counts()"
   ]
  },
  {
   "cell_type": "code",
   "execution_count": 179,
   "id": "fbfc7695",
   "metadata": {},
   "outputs": [
    {
     "data": {
      "text/plain": [
       "0    156\n",
       "1     14\n",
       "2     11\n",
       "Name: covid_infected, dtype: int64"
      ]
     },
     "execution_count": 179,
     "metadata": {},
     "output_type": "execute_result"
    }
   ],
   "source": [
    "dataframe[\"covid_infected\"] = dataframe[\"covid_infected\"].apply(f_1)\n",
    "dataframe[\"covid_infected\"].value_counts()"
   ]
  },
  {
   "cell_type": "code",
   "execution_count": 180,
   "id": "9f5d9f5e",
   "metadata": {},
   "outputs": [
    {
     "data": {
      "text/plain": [
       "No     158\n",
       "Yes     23\n",
       "Name: isolated, dtype: int64"
      ]
     },
     "execution_count": 180,
     "metadata": {},
     "output_type": "execute_result"
    }
   ],
   "source": [
    "dataframe[\"isolated\"].value_counts()"
   ]
  },
  {
   "cell_type": "code",
   "execution_count": 181,
   "id": "b0201543",
   "metadata": {},
   "outputs": [
    {
     "data": {
      "text/plain": [
       "0    158\n",
       "1     23\n",
       "Name: isolated, dtype: int64"
      ]
     },
     "execution_count": 181,
     "metadata": {},
     "output_type": "execute_result"
    }
   ],
   "source": [
    "dataframe[\"isolated\"] = dataframe[\"isolated\"].apply(f)\n",
    "dataframe[\"isolated\"].value_counts()"
   ]
  },
  {
   "cell_type": "code",
   "execution_count": 182,
   "id": "7a5d97f7",
   "metadata": {},
   "outputs": [
    {
     "data": {
      "text/plain": [
       "No     98\n",
       "Yes    83\n",
       "Name: working_outside_home, dtype: int64"
      ]
     },
     "execution_count": 182,
     "metadata": {},
     "output_type": "execute_result"
    }
   ],
   "source": [
    "dataframe[\"working_outside_home\"].value_counts()"
   ]
  },
  {
   "cell_type": "code",
   "execution_count": 183,
   "id": "cf418c2f",
   "metadata": {},
   "outputs": [
    {
     "data": {
      "text/plain": [
       "0    98\n",
       "1    83\n",
       "Name: working_outside_home, dtype: int64"
      ]
     },
     "execution_count": 183,
     "metadata": {},
     "output_type": "execute_result"
    }
   ],
   "source": [
    "dataframe[\"working_outside_home\"] = dataframe[\"working_outside_home\"].apply(f)\n",
    "dataframe[\"working_outside_home\"].value_counts()"
   ]
  },
  {
   "cell_type": "code",
   "execution_count": 184,
   "id": "ae6c2b76",
   "metadata": {},
   "outputs": [
    {
     "data": {
      "text/plain": [
       "Yes    146\n",
       "No      35\n",
       "Name: fear_of_being_infected_or_infecting_loved_ones, dtype: int64"
      ]
     },
     "execution_count": 184,
     "metadata": {},
     "output_type": "execute_result"
    }
   ],
   "source": [
    "dataframe[\"fear_of_being_infected_or_infecting_loved_ones\"].value_counts()"
   ]
  },
  {
   "cell_type": "code",
   "execution_count": 185,
   "id": "f278f7c2",
   "metadata": {},
   "outputs": [
    {
     "data": {
      "text/plain": [
       "1    146\n",
       "0     35\n",
       "Name: fear_of_being_infected_or_infecting_loved_ones, dtype: int64"
      ]
     },
     "execution_count": 185,
     "metadata": {},
     "output_type": "execute_result"
    }
   ],
   "source": [
    "dataframe[\"fear_of_being_infected_or_infecting_loved_ones\"] = dataframe[\"fear_of_being_infected_or_infecting_loved_ones\"].apply(f)\n",
    "dataframe[\"fear_of_being_infected_or_infecting_loved_ones\"].value_counts()"
   ]
  },
  {
   "cell_type": "code",
   "execution_count": 186,
   "id": "1945c251",
   "metadata": {},
   "outputs": [
    {
     "data": {
      "text/plain": [
       "No     134\n",
       "Yes     47\n",
       "Name: family_or_friends_death, dtype: int64"
      ]
     },
     "execution_count": 186,
     "metadata": {},
     "output_type": "execute_result"
    }
   ],
   "source": [
    "dataframe[\"family_or_friends_death\"].value_counts()"
   ]
  },
  {
   "cell_type": "code",
   "execution_count": 187,
   "id": "daf27972",
   "metadata": {},
   "outputs": [
    {
     "data": {
      "text/plain": [
       "0    134\n",
       "1     47\n",
       "Name: family_or_friends_death, dtype: int64"
      ]
     },
     "execution_count": 187,
     "metadata": {},
     "output_type": "execute_result"
    }
   ],
   "source": [
    "dataframe[\"family_or_friends_death\"] = dataframe[\"family_or_friends_death\"].apply(f)\n",
    "dataframe[\"family_or_friends_death\"].value_counts()"
   ]
  },
  {
   "cell_type": "code",
   "execution_count": 188,
   "id": "ed582e7a",
   "metadata": {},
   "outputs": [
    {
     "data": {
      "text/plain": [
       "No     169\n",
       "Yes     12\n",
       "Name: chronic_illness, dtype: int64"
      ]
     },
     "execution_count": 188,
     "metadata": {},
     "output_type": "execute_result"
    }
   ],
   "source": [
    "dataframe[\"chronic_illness\"].value_counts()"
   ]
  },
  {
   "cell_type": "code",
   "execution_count": 189,
   "id": "3a67304c",
   "metadata": {},
   "outputs": [
    {
     "data": {
      "text/plain": [
       "0    169\n",
       "1     12\n",
       "Name: chronic_illness, dtype: int64"
      ]
     },
     "execution_count": 189,
     "metadata": {},
     "output_type": "execute_result"
    }
   ],
   "source": [
    "dataframe[\"chronic_illness\"] = dataframe[\"chronic_illness\"].apply(f)\n",
    "dataframe[\"chronic_illness\"].value_counts()"
   ]
  },
  {
   "cell_type": "code",
   "execution_count": 190,
   "id": "7e70fadf",
   "metadata": {},
   "outputs": [
    {
     "data": {
      "text/plain": [
       "No     173\n",
       "Yes      8\n",
       "Name: previous_psychiatric_history, dtype: int64"
      ]
     },
     "execution_count": 190,
     "metadata": {},
     "output_type": "execute_result"
    }
   ],
   "source": [
    "dataframe[\"previous_psychiatric_history\"].value_counts()"
   ]
  },
  {
   "cell_type": "code",
   "execution_count": 191,
   "id": "4bfe4446",
   "metadata": {},
   "outputs": [
    {
     "data": {
      "text/plain": [
       "0    173\n",
       "1      8\n",
       "Name: previous_psychiatric_history, dtype: int64"
      ]
     },
     "execution_count": 191,
     "metadata": {},
     "output_type": "execute_result"
    }
   ],
   "source": [
    "dataframe[\"previous_psychiatric_history\"] = dataframe[\"previous_psychiatric_history\"].apply(f)\n",
    "dataframe[\"previous_psychiatric_history\"].value_counts()"
   ]
  },
  {
   "cell_type": "code",
   "execution_count": 192,
   "id": "a37d8aa9",
   "metadata": {},
   "outputs": [
    {
     "data": {
      "text/plain": [
       "Male      108\n",
       "Female     73\n",
       "Name: gender, dtype: int64"
      ]
     },
     "execution_count": 192,
     "metadata": {},
     "output_type": "execute_result"
    }
   ],
   "source": [
    "dataframe[\"gender\"].value_counts()"
   ]
  },
  {
   "cell_type": "code",
   "execution_count": 193,
   "id": "a2a72698",
   "metadata": {},
   "outputs": [
    {
     "data": {
      "text/plain": [
       "0    108\n",
       "1     73\n",
       "Name: gender, dtype: int64"
      ]
     },
     "execution_count": 193,
     "metadata": {},
     "output_type": "execute_result"
    }
   ],
   "source": [
    "dataframe[\"gender\"] = dataframe[\"gender\"].apply(lambda x: 0 if x == \"Male\" else 1)\n",
    "dataframe[\"gender\"].value_counts()"
   ]
  },
  {
   "cell_type": "code",
   "execution_count": 194,
   "id": "9d91f400",
   "metadata": {},
   "outputs": [
    {
     "data": {
      "text/plain": [
       "Single     156\n",
       "Married     25\n",
       "Name: marital_status, dtype: int64"
      ]
     },
     "execution_count": 194,
     "metadata": {},
     "output_type": "execute_result"
    }
   ],
   "source": [
    "dataframe[\"marital_status\"].value_counts()"
   ]
  },
  {
   "cell_type": "code",
   "execution_count": 195,
   "id": "2575e852",
   "metadata": {},
   "outputs": [
    {
     "data": {
      "text/plain": [
       "0    156\n",
       "1     25\n",
       "Name: marital_status, dtype: int64"
      ]
     },
     "execution_count": 195,
     "metadata": {},
     "output_type": "execute_result"
    }
   ],
   "source": [
    "dataframe[\"marital_status\"] = dataframe[\"marital_status\"].apply(lambda x: 0 if x == \"Single\" else 1)\n",
    "dataframe[\"marital_status\"].value_counts()"
   ]
  },
  {
   "cell_type": "markdown",
   "id": "e58cc7ff",
   "metadata": {},
   "source": [
    "# Encoding Ordinal Variables"
   ]
  },
  {
   "cell_type": "code",
   "execution_count": 196,
   "id": "2a05cb10",
   "metadata": {},
   "outputs": [
    {
     "data": {
      "text/plain": [
       "array(['24-30', '18-23', 'more than 30'], dtype=object)"
      ]
     },
     "execution_count": 196,
     "metadata": {},
     "output_type": "execute_result"
    }
   ],
   "source": [
    "dataframe[\"age\"].unique()"
   ]
  },
  {
   "cell_type": "code",
   "execution_count": 197,
   "id": "00d5f886",
   "metadata": {},
   "outputs": [
    {
     "data": {
      "text/plain": [
       "24-30           100\n",
       "18-23            71\n",
       "more than 30     10\n",
       "Name: age, dtype: int64"
      ]
     },
     "execution_count": 197,
     "metadata": {},
     "output_type": "execute_result"
    }
   ],
   "source": [
    "dataframe[\"age\"].value_counts()"
   ]
  },
  {
   "cell_type": "code",
   "execution_count": 198,
   "id": "ca3ac4be",
   "metadata": {},
   "outputs": [],
   "source": [
    "age_order = [\"18-23\", \"24-30\", \"more than 30\"]"
   ]
  },
  {
   "cell_type": "code",
   "execution_count": 199,
   "id": "6cbf53c5",
   "metadata": {},
   "outputs": [
    {
     "data": {
      "text/plain": [
       "array(['Graduate', 'Post-graduate', 'S.S.C', 'H.S.C'], dtype=object)"
      ]
     },
     "execution_count": 199,
     "metadata": {},
     "output_type": "execute_result"
    }
   ],
   "source": [
    "dataframe[\"education\"].unique()"
   ]
  },
  {
   "cell_type": "code",
   "execution_count": 200,
   "id": "055c3944",
   "metadata": {},
   "outputs": [
    {
     "data": {
      "text/plain": [
       "Graduate         93\n",
       "H.S.C            41\n",
       "Post-graduate    27\n",
       "S.S.C            20\n",
       "Name: education, dtype: int64"
      ]
     },
     "execution_count": 200,
     "metadata": {},
     "output_type": "execute_result"
    }
   ],
   "source": [
    "dataframe[\"education\"].value_counts()"
   ]
  },
  {
   "cell_type": "code",
   "execution_count": 201,
   "id": "b15bc384",
   "metadata": {},
   "outputs": [],
   "source": [
    "education_order = [\"S.S.C\", \"H.S.C\", \"Graduate\", \"Post-graduate\"]"
   ]
  },
  {
   "cell_type": "code",
   "execution_count": 202,
   "id": "393db928",
   "metadata": {},
   "outputs": [
    {
     "data": {
      "text/plain": [
       "array(['more than 50000', 'less than 20000', '20000-34999', '35000-50000'],\n",
       "      dtype=object)"
      ]
     },
     "execution_count": 202,
     "metadata": {},
     "output_type": "execute_result"
    }
   ],
   "source": [
    "dataframe[\"household_income\"].unique()"
   ]
  },
  {
   "cell_type": "code",
   "execution_count": 203,
   "id": "039a421d",
   "metadata": {},
   "outputs": [
    {
     "data": {
      "text/plain": [
       "less than 20000    78\n",
       "20000-34999        48\n",
       "35000-50000        41\n",
       "more than 50000    14\n",
       "Name: household_income, dtype: int64"
      ]
     },
     "execution_count": 203,
     "metadata": {},
     "output_type": "execute_result"
    }
   ],
   "source": [
    "dataframe[\"household_income\"].value_counts()"
   ]
  },
  {
   "cell_type": "code",
   "execution_count": 204,
   "id": "9e8bd97f",
   "metadata": {},
   "outputs": [],
   "source": [
    "household_income_order = [\"less than 20000\", \"20000-34999\", \"35000-50000\", \"more than 50000\"]"
   ]
  },
  {
   "cell_type": "code",
   "execution_count": 205,
   "id": "b302d5d3",
   "metadata": {},
   "outputs": [],
   "source": [
    "from sklearn.preprocessing import OrdinalEncoder\n",
    "\n",
    "ordinal_encoder_1 = OrdinalEncoder(categories = [age_order], dtype= \"int\")\n",
    "ordinal_encoder_2 = OrdinalEncoder(categories = [education_order], dtype= \"int\")\n",
    "ordinal_encoder_3 = OrdinalEncoder(categories = [household_income_order], dtype= \"int\")"
   ]
  },
  {
   "cell_type": "code",
   "execution_count": 206,
   "id": "6cad3589",
   "metadata": {},
   "outputs": [],
   "source": [
    "dataframe[\"age\"] = ordinal_encoder_1.fit_transform(dataframe[[\"age\"]])\n",
    "dataframe[\"education\"]= ordinal_encoder_2.fit_transform(dataframe[[\"education\"]])\n",
    "dataframe[\"household_income\"] = ordinal_encoder_3.fit_transform(dataframe[[\"household_income\"]])"
   ]
  },
  {
   "cell_type": "code",
   "execution_count": 207,
   "id": "51f36c66",
   "metadata": {},
   "outputs": [
    {
     "data": {
      "text/plain": [
       "1    100\n",
       "0     71\n",
       "2     10\n",
       "Name: age, dtype: int64"
      ]
     },
     "execution_count": 207,
     "metadata": {},
     "output_type": "execute_result"
    }
   ],
   "source": [
    "dataframe[\"age\"].value_counts()"
   ]
  },
  {
   "cell_type": "code",
   "execution_count": 208,
   "id": "9a01cc74",
   "metadata": {},
   "outputs": [
    {
     "data": {
      "text/plain": [
       "2    93\n",
       "1    41\n",
       "3    27\n",
       "0    20\n",
       "Name: education, dtype: int64"
      ]
     },
     "execution_count": 208,
     "metadata": {},
     "output_type": "execute_result"
    }
   ],
   "source": [
    "dataframe[\"education\"].value_counts()"
   ]
  },
  {
   "cell_type": "code",
   "execution_count": 209,
   "id": "02885f6b",
   "metadata": {},
   "outputs": [
    {
     "data": {
      "text/plain": [
       "0    78\n",
       "1    48\n",
       "2    41\n",
       "3    14\n",
       "Name: household_income, dtype: int64"
      ]
     },
     "execution_count": 209,
     "metadata": {},
     "output_type": "execute_result"
    }
   ],
   "source": [
    "dataframe[\"household_income\"].value_counts()"
   ]
  },
  {
   "cell_type": "markdown",
   "id": "a92dc9d0",
   "metadata": {},
   "source": [
    "# Encoding Nominal Variable"
   ]
  },
  {
   "cell_type": "code",
   "execution_count": 210,
   "id": "f492266f",
   "metadata": {},
   "outputs": [],
   "source": [
    "from sklearn.preprocessing import LabelEncoder\n",
    "label_encoder = LabelEncoder()"
   ]
  },
  {
   "cell_type": "code",
   "execution_count": 211,
   "id": "edfb106d",
   "metadata": {},
   "outputs": [],
   "source": [
    "dataframe[\"employment\"] = label_encoder.fit_transform(dataframe[\"employment\"])"
   ]
  },
  {
   "cell_type": "code",
   "execution_count": 212,
   "id": "8a78c1b3",
   "metadata": {},
   "outputs": [],
   "source": [
    "dataframe[\"ptsd_risk\"] = dataframe[\"PTSD_Risk\"].apply(f)"
   ]
  },
  {
   "cell_type": "code",
   "execution_count": 213,
   "id": "91200bfa",
   "metadata": {},
   "outputs": [
    {
     "data": {
      "text/html": [
       "<div>\n",
       "<style scoped>\n",
       "    .dataframe tbody tr th:only-of-type {\n",
       "        vertical-align: middle;\n",
       "    }\n",
       "\n",
       "    .dataframe tbody tr th {\n",
       "        vertical-align: top;\n",
       "    }\n",
       "\n",
       "    .dataframe thead th {\n",
       "        text-align: right;\n",
       "    }\n",
       "</style>\n",
       "<table border=\"1\" class=\"dataframe\">\n",
       "  <thead>\n",
       "    <tr style=\"text-align: right;\">\n",
       "      <th></th>\n",
       "      <th>age</th>\n",
       "      <th>gender</th>\n",
       "      <th>education</th>\n",
       "      <th>household_income</th>\n",
       "      <th>employment</th>\n",
       "      <th>marital_status</th>\n",
       "      <th>living_in_highly_affected_areas</th>\n",
       "      <th>knowing_infected_people</th>\n",
       "      <th>close_contact_with_infected_person</th>\n",
       "      <th>covid_infected</th>\n",
       "      <th>isolated</th>\n",
       "      <th>working_outside_home</th>\n",
       "      <th>fear_of_being_infected_or_infecting_loved_ones</th>\n",
       "      <th>family_or_friends_death</th>\n",
       "      <th>chronic_illness</th>\n",
       "      <th>previous_psychiatric_history</th>\n",
       "      <th>PTSD_Risk</th>\n",
       "      <th>ptsd_risk</th>\n",
       "    </tr>\n",
       "  </thead>\n",
       "  <tbody>\n",
       "    <tr>\n",
       "      <th>0</th>\n",
       "      <td>1</td>\n",
       "      <td>0</td>\n",
       "      <td>2</td>\n",
       "      <td>3</td>\n",
       "      <td>4</td>\n",
       "      <td>0</td>\n",
       "      <td>0</td>\n",
       "      <td>1</td>\n",
       "      <td>1</td>\n",
       "      <td>0</td>\n",
       "      <td>1</td>\n",
       "      <td>1</td>\n",
       "      <td>1</td>\n",
       "      <td>0</td>\n",
       "      <td>0</td>\n",
       "      <td>0</td>\n",
       "      <td>No</td>\n",
       "      <td>0</td>\n",
       "    </tr>\n",
       "    <tr>\n",
       "      <th>1</th>\n",
       "      <td>1</td>\n",
       "      <td>1</td>\n",
       "      <td>2</td>\n",
       "      <td>0</td>\n",
       "      <td>4</td>\n",
       "      <td>0</td>\n",
       "      <td>0</td>\n",
       "      <td>0</td>\n",
       "      <td>0</td>\n",
       "      <td>0</td>\n",
       "      <td>0</td>\n",
       "      <td>1</td>\n",
       "      <td>1</td>\n",
       "      <td>0</td>\n",
       "      <td>0</td>\n",
       "      <td>0</td>\n",
       "      <td>Yes</td>\n",
       "      <td>1</td>\n",
       "    </tr>\n",
       "    <tr>\n",
       "      <th>2</th>\n",
       "      <td>0</td>\n",
       "      <td>1</td>\n",
       "      <td>2</td>\n",
       "      <td>1</td>\n",
       "      <td>3</td>\n",
       "      <td>0</td>\n",
       "      <td>0</td>\n",
       "      <td>0</td>\n",
       "      <td>0</td>\n",
       "      <td>0</td>\n",
       "      <td>0</td>\n",
       "      <td>0</td>\n",
       "      <td>0</td>\n",
       "      <td>0</td>\n",
       "      <td>0</td>\n",
       "      <td>0</td>\n",
       "      <td>No</td>\n",
       "      <td>0</td>\n",
       "    </tr>\n",
       "    <tr>\n",
       "      <th>3</th>\n",
       "      <td>1</td>\n",
       "      <td>1</td>\n",
       "      <td>2</td>\n",
       "      <td>0</td>\n",
       "      <td>3</td>\n",
       "      <td>0</td>\n",
       "      <td>0</td>\n",
       "      <td>1</td>\n",
       "      <td>0</td>\n",
       "      <td>0</td>\n",
       "      <td>0</td>\n",
       "      <td>0</td>\n",
       "      <td>1</td>\n",
       "      <td>0</td>\n",
       "      <td>0</td>\n",
       "      <td>0</td>\n",
       "      <td>No</td>\n",
       "      <td>0</td>\n",
       "    </tr>\n",
       "    <tr>\n",
       "      <th>4</th>\n",
       "      <td>0</td>\n",
       "      <td>0</td>\n",
       "      <td>3</td>\n",
       "      <td>2</td>\n",
       "      <td>4</td>\n",
       "      <td>0</td>\n",
       "      <td>0</td>\n",
       "      <td>0</td>\n",
       "      <td>2</td>\n",
       "      <td>0</td>\n",
       "      <td>0</td>\n",
       "      <td>1</td>\n",
       "      <td>1</td>\n",
       "      <td>1</td>\n",
       "      <td>0</td>\n",
       "      <td>0</td>\n",
       "      <td>Yes</td>\n",
       "      <td>1</td>\n",
       "    </tr>\n",
       "  </tbody>\n",
       "</table>\n",
       "</div>"
      ],
      "text/plain": [
       "   age  gender  education  household_income  employment  marital_status  \\\n",
       "0    1       0          2                 3           4               0   \n",
       "1    1       1          2                 0           4               0   \n",
       "2    0       1          2                 1           3               0   \n",
       "3    1       1          2                 0           3               0   \n",
       "4    0       0          3                 2           4               0   \n",
       "\n",
       "   living_in_highly_affected_areas  knowing_infected_people  \\\n",
       "0                                0                        1   \n",
       "1                                0                        0   \n",
       "2                                0                        0   \n",
       "3                                0                        1   \n",
       "4                                0                        0   \n",
       "\n",
       "   close_contact_with_infected_person  covid_infected  isolated  \\\n",
       "0                                   1               0         1   \n",
       "1                                   0               0         0   \n",
       "2                                   0               0         0   \n",
       "3                                   0               0         0   \n",
       "4                                   2               0         0   \n",
       "\n",
       "   working_outside_home  fear_of_being_infected_or_infecting_loved_ones  \\\n",
       "0                     1                                               1   \n",
       "1                     1                                               1   \n",
       "2                     0                                               0   \n",
       "3                     0                                               1   \n",
       "4                     1                                               1   \n",
       "\n",
       "   family_or_friends_death  chronic_illness  previous_psychiatric_history  \\\n",
       "0                        0                0                             0   \n",
       "1                        0                0                             0   \n",
       "2                        0                0                             0   \n",
       "3                        0                0                             0   \n",
       "4                        1                0                             0   \n",
       "\n",
       "  PTSD_Risk  ptsd_risk  \n",
       "0        No          0  \n",
       "1       Yes          1  \n",
       "2        No          0  \n",
       "3        No          0  \n",
       "4       Yes          1  "
      ]
     },
     "execution_count": 213,
     "metadata": {},
     "output_type": "execute_result"
    }
   ],
   "source": [
    "dataframe.head()"
   ]
  },
  {
   "cell_type": "markdown",
   "id": "fc9609bb",
   "metadata": {},
   "source": [
    "# Correlation Matrix"
   ]
  },
  {
   "cell_type": "code",
   "execution_count": 214,
   "id": "e6666958",
   "metadata": {},
   "outputs": [
    {
     "data": {
      "text/html": [
       "<div>\n",
       "<style scoped>\n",
       "    .dataframe tbody tr th:only-of-type {\n",
       "        vertical-align: middle;\n",
       "    }\n",
       "\n",
       "    .dataframe tbody tr th {\n",
       "        vertical-align: top;\n",
       "    }\n",
       "\n",
       "    .dataframe thead th {\n",
       "        text-align: right;\n",
       "    }\n",
       "</style>\n",
       "<table border=\"1\" class=\"dataframe\">\n",
       "  <thead>\n",
       "    <tr style=\"text-align: right;\">\n",
       "      <th></th>\n",
       "      <th>age</th>\n",
       "      <th>gender</th>\n",
       "      <th>education</th>\n",
       "      <th>household_income</th>\n",
       "      <th>employment</th>\n",
       "      <th>marital_status</th>\n",
       "      <th>living_in_highly_affected_areas</th>\n",
       "      <th>knowing_infected_people</th>\n",
       "      <th>close_contact_with_infected_person</th>\n",
       "      <th>covid_infected</th>\n",
       "      <th>isolated</th>\n",
       "      <th>working_outside_home</th>\n",
       "      <th>fear_of_being_infected_or_infecting_loved_ones</th>\n",
       "      <th>family_or_friends_death</th>\n",
       "      <th>chronic_illness</th>\n",
       "      <th>previous_psychiatric_history</th>\n",
       "      <th>ptsd_risk</th>\n",
       "    </tr>\n",
       "  </thead>\n",
       "  <tbody>\n",
       "    <tr>\n",
       "      <th>age</th>\n",
       "      <td>1.000000</td>\n",
       "      <td>0.031226</td>\n",
       "      <td>0.512981</td>\n",
       "      <td>0.155449</td>\n",
       "      <td>-0.058165</td>\n",
       "      <td>0.399729</td>\n",
       "      <td>-0.003817</td>\n",
       "      <td>-0.037396</td>\n",
       "      <td>-0.011516</td>\n",
       "      <td>0.128670</td>\n",
       "      <td>0.107688</td>\n",
       "      <td>0.229720</td>\n",
       "      <td>0.029157</td>\n",
       "      <td>0.018312</td>\n",
       "      <td>0.155406</td>\n",
       "      <td>-0.060651</td>\n",
       "      <td>-0.019996</td>\n",
       "    </tr>\n",
       "    <tr>\n",
       "      <th>gender</th>\n",
       "      <td>0.031226</td>\n",
       "      <td>1.000000</td>\n",
       "      <td>0.063052</td>\n",
       "      <td>0.030160</td>\n",
       "      <td>0.135164</td>\n",
       "      <td>0.127862</td>\n",
       "      <td>0.085439</td>\n",
       "      <td>0.071862</td>\n",
       "      <td>-0.037637</td>\n",
       "      <td>-0.011036</td>\n",
       "      <td>0.058289</td>\n",
       "      <td>-0.394979</td>\n",
       "      <td>0.003309</td>\n",
       "      <td>0.078195</td>\n",
       "      <td>-0.038013</td>\n",
       "      <td>-0.012412</td>\n",
       "      <td>-0.006014</td>\n",
       "    </tr>\n",
       "    <tr>\n",
       "      <th>education</th>\n",
       "      <td>0.512981</td>\n",
       "      <td>0.063052</td>\n",
       "      <td>1.000000</td>\n",
       "      <td>0.180025</td>\n",
       "      <td>0.115941</td>\n",
       "      <td>0.214947</td>\n",
       "      <td>-0.133880</td>\n",
       "      <td>0.136359</td>\n",
       "      <td>0.047538</td>\n",
       "      <td>0.045678</td>\n",
       "      <td>-0.022117</td>\n",
       "      <td>0.100828</td>\n",
       "      <td>0.123860</td>\n",
       "      <td>0.133180</td>\n",
       "      <td>0.015091</td>\n",
       "      <td>0.012178</td>\n",
       "      <td>0.076467</td>\n",
       "    </tr>\n",
       "    <tr>\n",
       "      <th>household_income</th>\n",
       "      <td>0.155449</td>\n",
       "      <td>0.030160</td>\n",
       "      <td>0.180025</td>\n",
       "      <td>1.000000</td>\n",
       "      <td>-0.103647</td>\n",
       "      <td>0.003964</td>\n",
       "      <td>0.225430</td>\n",
       "      <td>0.225945</td>\n",
       "      <td>0.134462</td>\n",
       "      <td>0.061464</td>\n",
       "      <td>0.103779</td>\n",
       "      <td>-0.100182</td>\n",
       "      <td>0.160395</td>\n",
       "      <td>-0.047001</td>\n",
       "      <td>0.149165</td>\n",
       "      <td>0.010888</td>\n",
       "      <td>-0.034236</td>\n",
       "    </tr>\n",
       "    <tr>\n",
       "      <th>employment</th>\n",
       "      <td>-0.058165</td>\n",
       "      <td>0.135164</td>\n",
       "      <td>0.115941</td>\n",
       "      <td>-0.103647</td>\n",
       "      <td>1.000000</td>\n",
       "      <td>-0.120512</td>\n",
       "      <td>-0.071871</td>\n",
       "      <td>0.073884</td>\n",
       "      <td>-0.156896</td>\n",
       "      <td>-0.074100</td>\n",
       "      <td>-0.101110</td>\n",
       "      <td>-0.210426</td>\n",
       "      <td>-0.012009</td>\n",
       "      <td>-0.032092</td>\n",
       "      <td>-0.075617</td>\n",
       "      <td>0.068920</td>\n",
       "      <td>0.043232</td>\n",
       "    </tr>\n",
       "    <tr>\n",
       "      <th>marital_status</th>\n",
       "      <td>0.399729</td>\n",
       "      <td>0.127862</td>\n",
       "      <td>0.214947</td>\n",
       "      <td>0.003964</td>\n",
       "      <td>-0.120512</td>\n",
       "      <td>1.000000</td>\n",
       "      <td>-0.152208</td>\n",
       "      <td>-0.227755</td>\n",
       "      <td>-0.024799</td>\n",
       "      <td>-0.029379</td>\n",
       "      <td>-0.104658</td>\n",
       "      <td>-0.014914</td>\n",
       "      <td>0.033825</td>\n",
       "      <td>0.091606</td>\n",
       "      <td>0.022046</td>\n",
       "      <td>-0.008178</td>\n",
       "      <td>-0.066090</td>\n",
       "    </tr>\n",
       "    <tr>\n",
       "      <th>living_in_highly_affected_areas</th>\n",
       "      <td>-0.003817</td>\n",
       "      <td>0.085439</td>\n",
       "      <td>-0.133880</td>\n",
       "      <td>0.225430</td>\n",
       "      <td>-0.071871</td>\n",
       "      <td>-0.152208</td>\n",
       "      <td>1.000000</td>\n",
       "      <td>0.216399</td>\n",
       "      <td>0.179404</td>\n",
       "      <td>0.224764</td>\n",
       "      <td>0.209172</td>\n",
       "      <td>-0.056267</td>\n",
       "      <td>-0.048648</td>\n",
       "      <td>-0.012497</td>\n",
       "      <td>0.159593</td>\n",
       "      <td>0.128792</td>\n",
       "      <td>0.040264</td>\n",
       "    </tr>\n",
       "    <tr>\n",
       "      <th>knowing_infected_people</th>\n",
       "      <td>-0.037396</td>\n",
       "      <td>0.071862</td>\n",
       "      <td>0.136359</td>\n",
       "      <td>0.225945</td>\n",
       "      <td>0.073884</td>\n",
       "      <td>-0.227755</td>\n",
       "      <td>0.216399</td>\n",
       "      <td>1.000000</td>\n",
       "      <td>0.312285</td>\n",
       "      <td>0.114499</td>\n",
       "      <td>0.073569</td>\n",
       "      <td>-0.071625</td>\n",
       "      <td>0.303569</td>\n",
       "      <td>0.185697</td>\n",
       "      <td>0.054833</td>\n",
       "      <td>0.156381</td>\n",
       "      <td>0.169880</td>\n",
       "    </tr>\n",
       "    <tr>\n",
       "      <th>close_contact_with_infected_person</th>\n",
       "      <td>-0.011516</td>\n",
       "      <td>-0.037637</td>\n",
       "      <td>0.047538</td>\n",
       "      <td>0.134462</td>\n",
       "      <td>-0.156896</td>\n",
       "      <td>-0.024799</td>\n",
       "      <td>0.179404</td>\n",
       "      <td>0.312285</td>\n",
       "      <td>1.000000</td>\n",
       "      <td>0.319203</td>\n",
       "      <td>0.186291</td>\n",
       "      <td>0.181455</td>\n",
       "      <td>0.181678</td>\n",
       "      <td>0.254145</td>\n",
       "      <td>0.117447</td>\n",
       "      <td>0.080092</td>\n",
       "      <td>0.203823</td>\n",
       "    </tr>\n",
       "    <tr>\n",
       "      <th>covid_infected</th>\n",
       "      <td>0.128670</td>\n",
       "      <td>-0.011036</td>\n",
       "      <td>0.045678</td>\n",
       "      <td>0.061464</td>\n",
       "      <td>-0.074100</td>\n",
       "      <td>-0.029379</td>\n",
       "      <td>0.224764</td>\n",
       "      <td>0.114499</td>\n",
       "      <td>0.319203</td>\n",
       "      <td>1.000000</td>\n",
       "      <td>0.232416</td>\n",
       "      <td>0.010287</td>\n",
       "      <td>0.078165</td>\n",
       "      <td>0.205707</td>\n",
       "      <td>0.025695</td>\n",
       "      <td>-0.080702</td>\n",
       "      <td>0.106810</td>\n",
       "    </tr>\n",
       "    <tr>\n",
       "      <th>isolated</th>\n",
       "      <td>0.107688</td>\n",
       "      <td>0.058289</td>\n",
       "      <td>-0.022117</td>\n",
       "      <td>0.103779</td>\n",
       "      <td>-0.101110</td>\n",
       "      <td>-0.104658</td>\n",
       "      <td>0.209172</td>\n",
       "      <td>0.073569</td>\n",
       "      <td>0.186291</td>\n",
       "      <td>0.232416</td>\n",
       "      <td>1.000000</td>\n",
       "      <td>-0.018209</td>\n",
       "      <td>0.102802</td>\n",
       "      <td>0.152382</td>\n",
       "      <td>0.031679</td>\n",
       "      <td>-0.082046</td>\n",
       "      <td>0.128074</td>\n",
       "    </tr>\n",
       "    <tr>\n",
       "      <th>working_outside_home</th>\n",
       "      <td>0.229720</td>\n",
       "      <td>-0.394979</td>\n",
       "      <td>0.100828</td>\n",
       "      <td>-0.100182</td>\n",
       "      <td>-0.210426</td>\n",
       "      <td>-0.014914</td>\n",
       "      <td>-0.056267</td>\n",
       "      <td>-0.071625</td>\n",
       "      <td>0.181455</td>\n",
       "      <td>0.010287</td>\n",
       "      <td>-0.018209</td>\n",
       "      <td>1.000000</td>\n",
       "      <td>0.113695</td>\n",
       "      <td>0.061894</td>\n",
       "      <td>0.155854</td>\n",
       "      <td>-0.090009</td>\n",
       "      <td>0.096337</td>\n",
       "    </tr>\n",
       "    <tr>\n",
       "      <th>fear_of_being_infected_or_infecting_loved_ones</th>\n",
       "      <td>0.029157</td>\n",
       "      <td>0.003309</td>\n",
       "      <td>0.123860</td>\n",
       "      <td>0.160395</td>\n",
       "      <td>-0.012009</td>\n",
       "      <td>0.033825</td>\n",
       "      <td>-0.048648</td>\n",
       "      <td>0.303569</td>\n",
       "      <td>0.181678</td>\n",
       "      <td>0.078165</td>\n",
       "      <td>0.102802</td>\n",
       "      <td>0.113695</td>\n",
       "      <td>1.000000</td>\n",
       "      <td>0.194254</td>\n",
       "      <td>0.074243</td>\n",
       "      <td>0.105288</td>\n",
       "      <td>0.182239</td>\n",
       "    </tr>\n",
       "    <tr>\n",
       "      <th>family_or_friends_death</th>\n",
       "      <td>0.018312</td>\n",
       "      <td>0.078195</td>\n",
       "      <td>0.133180</td>\n",
       "      <td>-0.047001</td>\n",
       "      <td>-0.032092</td>\n",
       "      <td>0.091606</td>\n",
       "      <td>-0.012497</td>\n",
       "      <td>0.185697</td>\n",
       "      <td>0.254145</td>\n",
       "      <td>0.205707</td>\n",
       "      <td>0.152382</td>\n",
       "      <td>0.061894</td>\n",
       "      <td>0.194254</td>\n",
       "      <td>1.000000</td>\n",
       "      <td>0.095416</td>\n",
       "      <td>0.117872</td>\n",
       "      <td>0.208731</td>\n",
       "    </tr>\n",
       "    <tr>\n",
       "      <th>chronic_illness</th>\n",
       "      <td>0.155406</td>\n",
       "      <td>-0.038013</td>\n",
       "      <td>0.015091</td>\n",
       "      <td>0.149165</td>\n",
       "      <td>-0.075617</td>\n",
       "      <td>0.022046</td>\n",
       "      <td>0.159593</td>\n",
       "      <td>0.054833</td>\n",
       "      <td>0.117447</td>\n",
       "      <td>0.025695</td>\n",
       "      <td>0.031679</td>\n",
       "      <td>0.155854</td>\n",
       "      <td>0.074243</td>\n",
       "      <td>0.095416</td>\n",
       "      <td>1.000000</td>\n",
       "      <td>0.158774</td>\n",
       "      <td>0.165267</td>\n",
       "    </tr>\n",
       "    <tr>\n",
       "      <th>previous_psychiatric_history</th>\n",
       "      <td>-0.060651</td>\n",
       "      <td>-0.012412</td>\n",
       "      <td>0.012178</td>\n",
       "      <td>0.010888</td>\n",
       "      <td>0.068920</td>\n",
       "      <td>-0.008178</td>\n",
       "      <td>0.128792</td>\n",
       "      <td>0.156381</td>\n",
       "      <td>0.080092</td>\n",
       "      <td>-0.080702</td>\n",
       "      <td>-0.082046</td>\n",
       "      <td>-0.090009</td>\n",
       "      <td>0.105288</td>\n",
       "      <td>0.117872</td>\n",
       "      <td>0.158774</td>\n",
       "      <td>1.000000</td>\n",
       "      <td>0.133371</td>\n",
       "    </tr>\n",
       "    <tr>\n",
       "      <th>ptsd_risk</th>\n",
       "      <td>-0.019996</td>\n",
       "      <td>-0.006014</td>\n",
       "      <td>0.076467</td>\n",
       "      <td>-0.034236</td>\n",
       "      <td>0.043232</td>\n",
       "      <td>-0.066090</td>\n",
       "      <td>0.040264</td>\n",
       "      <td>0.169880</td>\n",
       "      <td>0.203823</td>\n",
       "      <td>0.106810</td>\n",
       "      <td>0.128074</td>\n",
       "      <td>0.096337</td>\n",
       "      <td>0.182239</td>\n",
       "      <td>0.208731</td>\n",
       "      <td>0.165267</td>\n",
       "      <td>0.133371</td>\n",
       "      <td>1.000000</td>\n",
       "    </tr>\n",
       "  </tbody>\n",
       "</table>\n",
       "</div>"
      ],
      "text/plain": [
       "                                                     age    gender  education  \\\n",
       "age                                             1.000000  0.031226   0.512981   \n",
       "gender                                          0.031226  1.000000   0.063052   \n",
       "education                                       0.512981  0.063052   1.000000   \n",
       "household_income                                0.155449  0.030160   0.180025   \n",
       "employment                                     -0.058165  0.135164   0.115941   \n",
       "marital_status                                  0.399729  0.127862   0.214947   \n",
       "living_in_highly_affected_areas                -0.003817  0.085439  -0.133880   \n",
       "knowing_infected_people                        -0.037396  0.071862   0.136359   \n",
       "close_contact_with_infected_person             -0.011516 -0.037637   0.047538   \n",
       "covid_infected                                  0.128670 -0.011036   0.045678   \n",
       "isolated                                        0.107688  0.058289  -0.022117   \n",
       "working_outside_home                            0.229720 -0.394979   0.100828   \n",
       "fear_of_being_infected_or_infecting_loved_ones  0.029157  0.003309   0.123860   \n",
       "family_or_friends_death                         0.018312  0.078195   0.133180   \n",
       "chronic_illness                                 0.155406 -0.038013   0.015091   \n",
       "previous_psychiatric_history                   -0.060651 -0.012412   0.012178   \n",
       "ptsd_risk                                      -0.019996 -0.006014   0.076467   \n",
       "\n",
       "                                                household_income  employment  \\\n",
       "age                                                     0.155449   -0.058165   \n",
       "gender                                                  0.030160    0.135164   \n",
       "education                                               0.180025    0.115941   \n",
       "household_income                                        1.000000   -0.103647   \n",
       "employment                                             -0.103647    1.000000   \n",
       "marital_status                                          0.003964   -0.120512   \n",
       "living_in_highly_affected_areas                         0.225430   -0.071871   \n",
       "knowing_infected_people                                 0.225945    0.073884   \n",
       "close_contact_with_infected_person                      0.134462   -0.156896   \n",
       "covid_infected                                          0.061464   -0.074100   \n",
       "isolated                                                0.103779   -0.101110   \n",
       "working_outside_home                                   -0.100182   -0.210426   \n",
       "fear_of_being_infected_or_infecting_loved_ones          0.160395   -0.012009   \n",
       "family_or_friends_death                                -0.047001   -0.032092   \n",
       "chronic_illness                                         0.149165   -0.075617   \n",
       "previous_psychiatric_history                            0.010888    0.068920   \n",
       "ptsd_risk                                              -0.034236    0.043232   \n",
       "\n",
       "                                                marital_status  \\\n",
       "age                                                   0.399729   \n",
       "gender                                                0.127862   \n",
       "education                                             0.214947   \n",
       "household_income                                      0.003964   \n",
       "employment                                           -0.120512   \n",
       "marital_status                                        1.000000   \n",
       "living_in_highly_affected_areas                      -0.152208   \n",
       "knowing_infected_people                              -0.227755   \n",
       "close_contact_with_infected_person                   -0.024799   \n",
       "covid_infected                                       -0.029379   \n",
       "isolated                                             -0.104658   \n",
       "working_outside_home                                 -0.014914   \n",
       "fear_of_being_infected_or_infecting_loved_ones        0.033825   \n",
       "family_or_friends_death                               0.091606   \n",
       "chronic_illness                                       0.022046   \n",
       "previous_psychiatric_history                         -0.008178   \n",
       "ptsd_risk                                            -0.066090   \n",
       "\n",
       "                                                living_in_highly_affected_areas  \\\n",
       "age                                                                   -0.003817   \n",
       "gender                                                                 0.085439   \n",
       "education                                                             -0.133880   \n",
       "household_income                                                       0.225430   \n",
       "employment                                                            -0.071871   \n",
       "marital_status                                                        -0.152208   \n",
       "living_in_highly_affected_areas                                        1.000000   \n",
       "knowing_infected_people                                                0.216399   \n",
       "close_contact_with_infected_person                                     0.179404   \n",
       "covid_infected                                                         0.224764   \n",
       "isolated                                                               0.209172   \n",
       "working_outside_home                                                  -0.056267   \n",
       "fear_of_being_infected_or_infecting_loved_ones                        -0.048648   \n",
       "family_or_friends_death                                               -0.012497   \n",
       "chronic_illness                                                        0.159593   \n",
       "previous_psychiatric_history                                           0.128792   \n",
       "ptsd_risk                                                              0.040264   \n",
       "\n",
       "                                                knowing_infected_people  \\\n",
       "age                                                           -0.037396   \n",
       "gender                                                         0.071862   \n",
       "education                                                      0.136359   \n",
       "household_income                                               0.225945   \n",
       "employment                                                     0.073884   \n",
       "marital_status                                                -0.227755   \n",
       "living_in_highly_affected_areas                                0.216399   \n",
       "knowing_infected_people                                        1.000000   \n",
       "close_contact_with_infected_person                             0.312285   \n",
       "covid_infected                                                 0.114499   \n",
       "isolated                                                       0.073569   \n",
       "working_outside_home                                          -0.071625   \n",
       "fear_of_being_infected_or_infecting_loved_ones                 0.303569   \n",
       "family_or_friends_death                                        0.185697   \n",
       "chronic_illness                                                0.054833   \n",
       "previous_psychiatric_history                                   0.156381   \n",
       "ptsd_risk                                                      0.169880   \n",
       "\n",
       "                                                close_contact_with_infected_person  \\\n",
       "age                                                                      -0.011516   \n",
       "gender                                                                   -0.037637   \n",
       "education                                                                 0.047538   \n",
       "household_income                                                          0.134462   \n",
       "employment                                                               -0.156896   \n",
       "marital_status                                                           -0.024799   \n",
       "living_in_highly_affected_areas                                           0.179404   \n",
       "knowing_infected_people                                                   0.312285   \n",
       "close_contact_with_infected_person                                        1.000000   \n",
       "covid_infected                                                            0.319203   \n",
       "isolated                                                                  0.186291   \n",
       "working_outside_home                                                      0.181455   \n",
       "fear_of_being_infected_or_infecting_loved_ones                            0.181678   \n",
       "family_or_friends_death                                                   0.254145   \n",
       "chronic_illness                                                           0.117447   \n",
       "previous_psychiatric_history                                              0.080092   \n",
       "ptsd_risk                                                                 0.203823   \n",
       "\n",
       "                                                covid_infected  isolated  \\\n",
       "age                                                   0.128670  0.107688   \n",
       "gender                                               -0.011036  0.058289   \n",
       "education                                             0.045678 -0.022117   \n",
       "household_income                                      0.061464  0.103779   \n",
       "employment                                           -0.074100 -0.101110   \n",
       "marital_status                                       -0.029379 -0.104658   \n",
       "living_in_highly_affected_areas                       0.224764  0.209172   \n",
       "knowing_infected_people                               0.114499  0.073569   \n",
       "close_contact_with_infected_person                    0.319203  0.186291   \n",
       "covid_infected                                        1.000000  0.232416   \n",
       "isolated                                              0.232416  1.000000   \n",
       "working_outside_home                                  0.010287 -0.018209   \n",
       "fear_of_being_infected_or_infecting_loved_ones        0.078165  0.102802   \n",
       "family_or_friends_death                               0.205707  0.152382   \n",
       "chronic_illness                                       0.025695  0.031679   \n",
       "previous_psychiatric_history                         -0.080702 -0.082046   \n",
       "ptsd_risk                                             0.106810  0.128074   \n",
       "\n",
       "                                                working_outside_home  \\\n",
       "age                                                         0.229720   \n",
       "gender                                                     -0.394979   \n",
       "education                                                   0.100828   \n",
       "household_income                                           -0.100182   \n",
       "employment                                                 -0.210426   \n",
       "marital_status                                             -0.014914   \n",
       "living_in_highly_affected_areas                            -0.056267   \n",
       "knowing_infected_people                                    -0.071625   \n",
       "close_contact_with_infected_person                          0.181455   \n",
       "covid_infected                                              0.010287   \n",
       "isolated                                                   -0.018209   \n",
       "working_outside_home                                        1.000000   \n",
       "fear_of_being_infected_or_infecting_loved_ones              0.113695   \n",
       "family_or_friends_death                                     0.061894   \n",
       "chronic_illness                                             0.155854   \n",
       "previous_psychiatric_history                               -0.090009   \n",
       "ptsd_risk                                                   0.096337   \n",
       "\n",
       "                                                fear_of_being_infected_or_infecting_loved_ones  \\\n",
       "age                                                                                   0.029157   \n",
       "gender                                                                                0.003309   \n",
       "education                                                                             0.123860   \n",
       "household_income                                                                      0.160395   \n",
       "employment                                                                           -0.012009   \n",
       "marital_status                                                                        0.033825   \n",
       "living_in_highly_affected_areas                                                      -0.048648   \n",
       "knowing_infected_people                                                               0.303569   \n",
       "close_contact_with_infected_person                                                    0.181678   \n",
       "covid_infected                                                                        0.078165   \n",
       "isolated                                                                              0.102802   \n",
       "working_outside_home                                                                  0.113695   \n",
       "fear_of_being_infected_or_infecting_loved_ones                                        1.000000   \n",
       "family_or_friends_death                                                               0.194254   \n",
       "chronic_illness                                                                       0.074243   \n",
       "previous_psychiatric_history                                                          0.105288   \n",
       "ptsd_risk                                                                             0.182239   \n",
       "\n",
       "                                                family_or_friends_death  \\\n",
       "age                                                            0.018312   \n",
       "gender                                                         0.078195   \n",
       "education                                                      0.133180   \n",
       "household_income                                              -0.047001   \n",
       "employment                                                    -0.032092   \n",
       "marital_status                                                 0.091606   \n",
       "living_in_highly_affected_areas                               -0.012497   \n",
       "knowing_infected_people                                        0.185697   \n",
       "close_contact_with_infected_person                             0.254145   \n",
       "covid_infected                                                 0.205707   \n",
       "isolated                                                       0.152382   \n",
       "working_outside_home                                           0.061894   \n",
       "fear_of_being_infected_or_infecting_loved_ones                 0.194254   \n",
       "family_or_friends_death                                        1.000000   \n",
       "chronic_illness                                                0.095416   \n",
       "previous_psychiatric_history                                   0.117872   \n",
       "ptsd_risk                                                      0.208731   \n",
       "\n",
       "                                                chronic_illness  \\\n",
       "age                                                    0.155406   \n",
       "gender                                                -0.038013   \n",
       "education                                              0.015091   \n",
       "household_income                                       0.149165   \n",
       "employment                                            -0.075617   \n",
       "marital_status                                         0.022046   \n",
       "living_in_highly_affected_areas                        0.159593   \n",
       "knowing_infected_people                                0.054833   \n",
       "close_contact_with_infected_person                     0.117447   \n",
       "covid_infected                                         0.025695   \n",
       "isolated                                               0.031679   \n",
       "working_outside_home                                   0.155854   \n",
       "fear_of_being_infected_or_infecting_loved_ones         0.074243   \n",
       "family_or_friends_death                                0.095416   \n",
       "chronic_illness                                        1.000000   \n",
       "previous_psychiatric_history                           0.158774   \n",
       "ptsd_risk                                              0.165267   \n",
       "\n",
       "                                                previous_psychiatric_history  \\\n",
       "age                                                                -0.060651   \n",
       "gender                                                             -0.012412   \n",
       "education                                                           0.012178   \n",
       "household_income                                                    0.010888   \n",
       "employment                                                          0.068920   \n",
       "marital_status                                                     -0.008178   \n",
       "living_in_highly_affected_areas                                     0.128792   \n",
       "knowing_infected_people                                             0.156381   \n",
       "close_contact_with_infected_person                                  0.080092   \n",
       "covid_infected                                                     -0.080702   \n",
       "isolated                                                           -0.082046   \n",
       "working_outside_home                                               -0.090009   \n",
       "fear_of_being_infected_or_infecting_loved_ones                      0.105288   \n",
       "family_or_friends_death                                             0.117872   \n",
       "chronic_illness                                                     0.158774   \n",
       "previous_psychiatric_history                                        1.000000   \n",
       "ptsd_risk                                                           0.133371   \n",
       "\n",
       "                                                ptsd_risk  \n",
       "age                                             -0.019996  \n",
       "gender                                          -0.006014  \n",
       "education                                        0.076467  \n",
       "household_income                                -0.034236  \n",
       "employment                                       0.043232  \n",
       "marital_status                                  -0.066090  \n",
       "living_in_highly_affected_areas                  0.040264  \n",
       "knowing_infected_people                          0.169880  \n",
       "close_contact_with_infected_person               0.203823  \n",
       "covid_infected                                   0.106810  \n",
       "isolated                                         0.128074  \n",
       "working_outside_home                             0.096337  \n",
       "fear_of_being_infected_or_infecting_loved_ones   0.182239  \n",
       "family_or_friends_death                          0.208731  \n",
       "chronic_illness                                  0.165267  \n",
       "previous_psychiatric_history                     0.133371  \n",
       "ptsd_risk                                        1.000000  "
      ]
     },
     "execution_count": 214,
     "metadata": {},
     "output_type": "execute_result"
    }
   ],
   "source": [
    "dataframe.corr()"
   ]
  },
  {
   "cell_type": "code",
   "execution_count": 215,
   "id": "42c7cc28",
   "metadata": {},
   "outputs": [
    {
     "data": {
      "text/plain": [
       "<AxesSubplot:>"
      ]
     },
     "execution_count": 215,
     "metadata": {},
     "output_type": "execute_result"
    },
    {
     "data": {
      "image/png": "[encoded data removed]",
      "text/plain": [
       "<Figure size 1080x1080 with 2 Axes>"
      ]
     },
     "metadata": {
      "needs_background": "light"
     },
     "output_type": "display_data"
    }
   ],
   "source": [
    "plt.figure(figsize = (15, 15))\n",
    "sns.heatmap(dataframe.corr(), annot = True)"
   ]
  },
  {
   "cell_type": "code",
   "execution_count": 216,
   "id": "65b9d345",
   "metadata": {},
   "outputs": [
    {
     "data": {
      "text/plain": [
       "marital_status                                   -0.066090\n",
       "household_income                                 -0.034236\n",
       "age                                              -0.019996\n",
       "gender                                           -0.006014\n",
       "living_in_highly_affected_areas                   0.040264\n",
       "employment                                        0.043232\n",
       "education                                         0.076467\n",
       "working_outside_home                              0.096337\n",
       "covid_infected                                    0.106810\n",
       "isolated                                          0.128074\n",
       "previous_psychiatric_history                      0.133371\n",
       "chronic_illness                                   0.165267\n",
       "knowing_infected_people                           0.169880\n",
       "fear_of_being_infected_or_infecting_loved_ones    0.182239\n",
       "close_contact_with_infected_person                0.203823\n",
       "family_or_friends_death                           0.208731\n",
       "ptsd_risk                                         1.000000\n",
       "Name: ptsd_risk, dtype: float64"
      ]
     },
     "execution_count": 216,
     "metadata": {},
     "output_type": "execute_result"
    }
   ],
   "source": [
    "dataframe.corr().ptsd_risk.sort_values()"
   ]
  },
  {
   "cell_type": "markdown",
   "id": "d0a3dc74",
   "metadata": {},
   "source": [
    "# Spliting Dataframe into Dependent and Independent Variables"
   ]
  },
  {
   "cell_type": "code",
   "execution_count": 217,
   "id": "6530dee1",
   "metadata": {},
   "outputs": [
    {
     "data": {
      "text/html": [
       "<div>\n",
       "<style scoped>\n",
       "    .dataframe tbody tr th:only-of-type {\n",
       "        vertical-align: middle;\n",
       "    }\n",
       "\n",
       "    .dataframe tbody tr th {\n",
       "        vertical-align: top;\n",
       "    }\n",
       "\n",
       "    .dataframe thead th {\n",
       "        text-align: right;\n",
       "    }\n",
       "</style>\n",
       "<table border=\"1\" class=\"dataframe\">\n",
       "  <thead>\n",
       "    <tr style=\"text-align: right;\">\n",
       "      <th></th>\n",
       "      <th>age</th>\n",
       "      <th>gender</th>\n",
       "      <th>education</th>\n",
       "      <th>household_income</th>\n",
       "      <th>employment</th>\n",
       "      <th>marital_status</th>\n",
       "      <th>living_in_highly_affected_areas</th>\n",
       "      <th>knowing_infected_people</th>\n",
       "      <th>close_contact_with_infected_person</th>\n",
       "      <th>covid_infected</th>\n",
       "      <th>isolated</th>\n",
       "      <th>working_outside_home</th>\n",
       "      <th>fear_of_being_infected_or_infecting_loved_ones</th>\n",
       "      <th>family_or_friends_death</th>\n",
       "      <th>chronic_illness</th>\n",
       "      <th>previous_psychiatric_history</th>\n",
       "    </tr>\n",
       "  </thead>\n",
       "  <tbody>\n",
       "    <tr>\n",
       "      <th>0</th>\n",
       "      <td>1</td>\n",
       "      <td>0</td>\n",
       "      <td>2</td>\n",
       "      <td>3</td>\n",
       "      <td>4</td>\n",
       "      <td>0</td>\n",
       "      <td>0</td>\n",
       "      <td>1</td>\n",
       "      <td>1</td>\n",
       "      <td>0</td>\n",
       "      <td>1</td>\n",
       "      <td>1</td>\n",
       "      <td>1</td>\n",
       "      <td>0</td>\n",
       "      <td>0</td>\n",
       "      <td>0</td>\n",
       "    </tr>\n",
       "    <tr>\n",
       "      <th>1</th>\n",
       "      <td>1</td>\n",
       "      <td>1</td>\n",
       "      <td>2</td>\n",
       "      <td>0</td>\n",
       "      <td>4</td>\n",
       "      <td>0</td>\n",
       "      <td>0</td>\n",
       "      <td>0</td>\n",
       "      <td>0</td>\n",
       "      <td>0</td>\n",
       "      <td>0</td>\n",
       "      <td>1</td>\n",
       "      <td>1</td>\n",
       "      <td>0</td>\n",
       "      <td>0</td>\n",
       "      <td>0</td>\n",
       "    </tr>\n",
       "    <tr>\n",
       "      <th>2</th>\n",
       "      <td>0</td>\n",
       "      <td>1</td>\n",
       "      <td>2</td>\n",
       "      <td>1</td>\n",
       "      <td>3</td>\n",
       "      <td>0</td>\n",
       "      <td>0</td>\n",
       "      <td>0</td>\n",
       "      <td>0</td>\n",
       "      <td>0</td>\n",
       "      <td>0</td>\n",
       "      <td>0</td>\n",
       "      <td>0</td>\n",
       "      <td>0</td>\n",
       "      <td>0</td>\n",
       "      <td>0</td>\n",
       "    </tr>\n",
       "    <tr>\n",
       "      <th>3</th>\n",
       "      <td>1</td>\n",
       "      <td>1</td>\n",
       "      <td>2</td>\n",
       "      <td>0</td>\n",
       "      <td>3</td>\n",
       "      <td>0</td>\n",
       "      <td>0</td>\n",
       "      <td>1</td>\n",
       "      <td>0</td>\n",
       "      <td>0</td>\n",
       "      <td>0</td>\n",
       "      <td>0</td>\n",
       "      <td>1</td>\n",
       "      <td>0</td>\n",
       "      <td>0</td>\n",
       "      <td>0</td>\n",
       "    </tr>\n",
       "    <tr>\n",
       "      <th>4</th>\n",
       "      <td>0</td>\n",
       "      <td>0</td>\n",
       "      <td>3</td>\n",
       "      <td>2</td>\n",
       "      <td>4</td>\n",
       "      <td>0</td>\n",
       "      <td>0</td>\n",
       "      <td>0</td>\n",
       "      <td>2</td>\n",
       "      <td>0</td>\n",
       "      <td>0</td>\n",
       "      <td>1</td>\n",
       "      <td>1</td>\n",
       "      <td>1</td>\n",
       "      <td>0</td>\n",
       "      <td>0</td>\n",
       "    </tr>\n",
       "  </tbody>\n",
       "</table>\n",
       "</div>"
      ],
      "text/plain": [
       "   age  gender  education  household_income  employment  marital_status  \\\n",
       "0    1       0          2                 3           4               0   \n",
       "1    1       1          2                 0           4               0   \n",
       "2    0       1          2                 1           3               0   \n",
       "3    1       1          2                 0           3               0   \n",
       "4    0       0          3                 2           4               0   \n",
       "\n",
       "   living_in_highly_affected_areas  knowing_infected_people  \\\n",
       "0                                0                        1   \n",
       "1                                0                        0   \n",
       "2                                0                        0   \n",
       "3                                0                        1   \n",
       "4                                0                        0   \n",
       "\n",
       "   close_contact_with_infected_person  covid_infected  isolated  \\\n",
       "0                                   1               0         1   \n",
       "1                                   0               0         0   \n",
       "2                                   0               0         0   \n",
       "3                                   0               0         0   \n",
       "4                                   2               0         0   \n",
       "\n",
       "   working_outside_home  fear_of_being_infected_or_infecting_loved_ones  \\\n",
       "0                     1                                               1   \n",
       "1                     1                                               1   \n",
       "2                     0                                               0   \n",
       "3                     0                                               1   \n",
       "4                     1                                               1   \n",
       "\n",
       "   family_or_friends_death  chronic_illness  previous_psychiatric_history  \n",
       "0                        0                0                             0  \n",
       "1                        0                0                             0  \n",
       "2                        0                0                             0  \n",
       "3                        0                0                             0  \n",
       "4                        1                0                             0  "
      ]
     },
     "execution_count": 217,
     "metadata": {},
     "output_type": "execute_result"
    }
   ],
   "source": [
    "#Independent variables\n",
    "\n",
    "x = dataframe.drop([\"PTSD_Risk\", \"ptsd_risk\"], axis = \"columns\")\n",
    "x.head()"
   ]
  },
  {
   "cell_type": "code",
   "execution_count": 218,
   "id": "6fcfa365",
   "metadata": {},
   "outputs": [
    {
     "name": "stdout",
     "output_type": "stream",
     "text": [
      "0    0\n",
      "1    1\n",
      "2    0\n",
      "3    0\n",
      "4    1\n",
      "Name: ptsd_risk, dtype: int64\n",
      "\n",
      "\n",
      "0    101\n",
      "1     80\n",
      "Name: ptsd_risk, dtype: int64\n"
     ]
    }
   ],
   "source": [
    "#dependent variable\n",
    "\n",
    "y = dataframe[\"ptsd_risk\"]\n",
    "print(y.head())\n",
    "print(\"\\n\")\n",
    "print(y.value_counts())"
   ]
  },
  {
   "cell_type": "markdown",
   "id": "af812ccb",
   "metadata": {},
   "source": [
    "# Over-sampling"
   ]
  },
  {
   "cell_type": "code",
   "execution_count": 219,
   "id": "f0c76037",
   "metadata": {},
   "outputs": [],
   "source": [
    "from imblearn.over_sampling import SMOTE\n",
    "smote = SMOTE(random_state = 42)"
   ]
  },
  {
   "cell_type": "code",
   "execution_count": 220,
   "id": "cabf11aa",
   "metadata": {},
   "outputs": [],
   "source": [
    "x_res, y_res = smote.fit_resample(x, y)"
   ]
  },
  {
   "cell_type": "code",
   "execution_count": 221,
   "id": "c4d80411",
   "metadata": {},
   "outputs": [
    {
     "name": "stdout",
     "output_type": "stream",
     "text": [
      "Before Over-sampling:  Counter({0: 101, 1: 80})\n",
      "After Over-sampling:  Counter({0: 101, 1: 101})\n"
     ]
    }
   ],
   "source": [
    "from collections import Counter\n",
    "\n",
    "print(\"Before Over-sampling: \", Counter(y))\n",
    "print(\"After Over-sampling: \", Counter(y_res))"
   ]
  },
  {
   "cell_type": "markdown",
   "id": "49abcb60",
   "metadata": {},
   "source": [
    "# Split Data into Train and Test Set"
   ]
  },
  {
   "cell_type": "code",
   "execution_count": 222,
   "id": "573db412",
   "metadata": {},
   "outputs": [],
   "source": [
    "from sklearn.model_selection import train_test_split\n",
    "\n",
    "x_train, x_test, y_train, y_test = train_test_split(x_res, y_res, test_size = .3, random_state = 42) "
   ]
  },
  {
   "cell_type": "code",
   "execution_count": 223,
   "id": "92764a2b",
   "metadata": {},
   "outputs": [
    {
     "data": {
      "text/html": [
       "<div>\n",
       "<style scoped>\n",
       "    .dataframe tbody tr th:only-of-type {\n",
       "        vertical-align: middle;\n",
       "    }\n",
       "\n",
       "    .dataframe tbody tr th {\n",
       "        vertical-align: top;\n",
       "    }\n",
       "\n",
       "    .dataframe thead th {\n",
       "        text-align: right;\n",
       "    }\n",
       "</style>\n",
       "<table border=\"1\" class=\"dataframe\">\n",
       "  <thead>\n",
       "    <tr style=\"text-align: right;\">\n",
       "      <th></th>\n",
       "      <th>age</th>\n",
       "      <th>gender</th>\n",
       "      <th>education</th>\n",
       "      <th>household_income</th>\n",
       "      <th>employment</th>\n",
       "      <th>marital_status</th>\n",
       "      <th>living_in_highly_affected_areas</th>\n",
       "      <th>knowing_infected_people</th>\n",
       "      <th>close_contact_with_infected_person</th>\n",
       "      <th>covid_infected</th>\n",
       "      <th>isolated</th>\n",
       "      <th>working_outside_home</th>\n",
       "      <th>fear_of_being_infected_or_infecting_loved_ones</th>\n",
       "      <th>family_or_friends_death</th>\n",
       "      <th>chronic_illness</th>\n",
       "      <th>previous_psychiatric_history</th>\n",
       "    </tr>\n",
       "  </thead>\n",
       "  <tbody>\n",
       "    <tr>\n",
       "      <th>97</th>\n",
       "      <td>0</td>\n",
       "      <td>1</td>\n",
       "      <td>0</td>\n",
       "      <td>0</td>\n",
       "      <td>3</td>\n",
       "      <td>0</td>\n",
       "      <td>1</td>\n",
       "      <td>0</td>\n",
       "      <td>0</td>\n",
       "      <td>0</td>\n",
       "      <td>0</td>\n",
       "      <td>0</td>\n",
       "      <td>0</td>\n",
       "      <td>0</td>\n",
       "      <td>0</td>\n",
       "      <td>0</td>\n",
       "    </tr>\n",
       "    <tr>\n",
       "      <th>31</th>\n",
       "      <td>0</td>\n",
       "      <td>0</td>\n",
       "      <td>2</td>\n",
       "      <td>2</td>\n",
       "      <td>3</td>\n",
       "      <td>0</td>\n",
       "      <td>0</td>\n",
       "      <td>2</td>\n",
       "      <td>2</td>\n",
       "      <td>0</td>\n",
       "      <td>0</td>\n",
       "      <td>1</td>\n",
       "      <td>1</td>\n",
       "      <td>0</td>\n",
       "      <td>0</td>\n",
       "      <td>0</td>\n",
       "    </tr>\n",
       "    <tr>\n",
       "      <th>12</th>\n",
       "      <td>1</td>\n",
       "      <td>0</td>\n",
       "      <td>1</td>\n",
       "      <td>0</td>\n",
       "      <td>4</td>\n",
       "      <td>0</td>\n",
       "      <td>0</td>\n",
       "      <td>2</td>\n",
       "      <td>0</td>\n",
       "      <td>0</td>\n",
       "      <td>0</td>\n",
       "      <td>0</td>\n",
       "      <td>1</td>\n",
       "      <td>0</td>\n",
       "      <td>0</td>\n",
       "      <td>1</td>\n",
       "    </tr>\n",
       "    <tr>\n",
       "      <th>35</th>\n",
       "      <td>1</td>\n",
       "      <td>0</td>\n",
       "      <td>0</td>\n",
       "      <td>0</td>\n",
       "      <td>2</td>\n",
       "      <td>1</td>\n",
       "      <td>0</td>\n",
       "      <td>0</td>\n",
       "      <td>0</td>\n",
       "      <td>0</td>\n",
       "      <td>0</td>\n",
       "      <td>0</td>\n",
       "      <td>0</td>\n",
       "      <td>0</td>\n",
       "      <td>0</td>\n",
       "      <td>0</td>\n",
       "    </tr>\n",
       "    <tr>\n",
       "      <th>119</th>\n",
       "      <td>0</td>\n",
       "      <td>0</td>\n",
       "      <td>1</td>\n",
       "      <td>0</td>\n",
       "      <td>2</td>\n",
       "      <td>0</td>\n",
       "      <td>0</td>\n",
       "      <td>0</td>\n",
       "      <td>0</td>\n",
       "      <td>0</td>\n",
       "      <td>0</td>\n",
       "      <td>0</td>\n",
       "      <td>0</td>\n",
       "      <td>0</td>\n",
       "      <td>0</td>\n",
       "      <td>0</td>\n",
       "    </tr>\n",
       "  </tbody>\n",
       "</table>\n",
       "</div>"
      ],
      "text/plain": [
       "     age  gender  education  household_income  employment  marital_status  \\\n",
       "97     0       1          0                 0           3               0   \n",
       "31     0       0          2                 2           3               0   \n",
       "12     1       0          1                 0           4               0   \n",
       "35     1       0          0                 0           2               1   \n",
       "119    0       0          1                 0           2               0   \n",
       "\n",
       "     living_in_highly_affected_areas  knowing_infected_people  \\\n",
       "97                                 1                        0   \n",
       "31                                 0                        2   \n",
       "12                                 0                        2   \n",
       "35                                 0                        0   \n",
       "119                                0                        0   \n",
       "\n",
       "     close_contact_with_infected_person  covid_infected  isolated  \\\n",
       "97                                    0               0         0   \n",
       "31                                    2               0         0   \n",
       "12                                    0               0         0   \n",
       "35                                    0               0         0   \n",
       "119                                   0               0         0   \n",
       "\n",
       "     working_outside_home  fear_of_being_infected_or_infecting_loved_ones  \\\n",
       "97                      0                                               0   \n",
       "31                      1                                               1   \n",
       "12                      0                                               1   \n",
       "35                      0                                               0   \n",
       "119                     0                                               0   \n",
       "\n",
       "     family_or_friends_death  chronic_illness  previous_psychiatric_history  \n",
       "97                         0                0                             0  \n",
       "31                         0                0                             0  \n",
       "12                         0                0                             1  \n",
       "35                         0                0                             0  \n",
       "119                        0                0                             0  "
      ]
     },
     "execution_count": 223,
     "metadata": {},
     "output_type": "execute_result"
    }
   ],
   "source": [
    "x_train.head()"
   ]
  },
  {
   "cell_type": "code",
   "execution_count": 224,
   "id": "4a9a31ed",
   "metadata": {},
   "outputs": [
    {
     "data": {
      "text/plain": [
       "97     1\n",
       "31     1\n",
       "12     1\n",
       "35     1\n",
       "119    0\n",
       "Name: ptsd_risk, dtype: int64"
      ]
     },
     "execution_count": 224,
     "metadata": {},
     "output_type": "execute_result"
    }
   ],
   "source": [
    "y_train.head()"
   ]
  },
  {
   "cell_type": "markdown",
   "id": "f1ba0d17",
   "metadata": {},
   "source": [
    "# Model Training"
   ]
  },
  {
   "cell_type": "markdown",
   "id": "9806e89e",
   "metadata": {},
   "source": [
    "# Logistic Regression"
   ]
  },
  {
   "cell_type": "code",
   "execution_count": 225,
   "id": "668d6732",
   "metadata": {},
   "outputs": [],
   "source": [
    "from sklearn.linear_model import LogisticRegression\n",
    "\n",
    "lr = LogisticRegression()"
   ]
  },
  {
   "cell_type": "code",
   "execution_count": 226,
   "id": "7ff96df9",
   "metadata": {},
   "outputs": [
    {
     "data": {
      "text/plain": [
       "LogisticRegression()"
      ]
     },
     "execution_count": 226,
     "metadata": {},
     "output_type": "execute_result"
    }
   ],
   "source": [
    "#fit model with trainig data\n",
    "\n",
    "lr.fit(x_train, y_train)"
   ]
  },
  {
   "cell_type": "code",
   "execution_count": 227,
   "id": "587ae049",
   "metadata": {},
   "outputs": [
    {
     "data": {
      "text/plain": [
       "array([0, 0, 0, 0, 0, 0, 0, 0, 0, 1, 1, 0, 1, 1, 1, 0, 1, 0, 1, 0, 1, 1,\n",
       "       0, 0, 0, 0, 0, 0, 0, 1, 1, 1, 1, 0, 0, 1, 1, 0, 1, 0, 0, 0, 0, 0,\n",
       "       0, 1, 1, 0, 1, 0, 1, 1, 0, 1, 0, 1, 1, 0, 1, 1, 0], dtype=int64)"
      ]
     },
     "execution_count": 227,
     "metadata": {},
     "output_type": "execute_result"
    }
   ],
   "source": [
    "yp_lr = lr.predict(x_test)\n",
    "yp_lr"
   ]
  },
  {
   "cell_type": "markdown",
   "id": "6a28c7a8",
   "metadata": {},
   "source": [
    "# Support Vector Machine(SVM)"
   ]
  },
  {
   "cell_type": "code",
   "execution_count": 228,
   "id": "a029baf5",
   "metadata": {},
   "outputs": [
    {
     "data": {
      "text/plain": [
       "SVC(kernel='linear', probability=True)"
      ]
     },
     "execution_count": 228,
     "metadata": {},
     "output_type": "execute_result"
    }
   ],
   "source": [
    "from sklearn.svm import SVC\n",
    "\n",
    "svm = SVC(kernel = \"linear\", probability = True)\n",
    "svm.fit(x_train,y_train)"
   ]
  },
  {
   "cell_type": "code",
   "execution_count": 229,
   "id": "b2f7abea",
   "metadata": {},
   "outputs": [
    {
     "data": {
      "text/plain": [
       "array([1, 0, 0, 0, 0, 0, 0, 0, 0, 1, 1, 1, 1, 1, 1, 0, 1, 0, 1, 0, 1, 1,\n",
       "       0, 0, 0, 0, 1, 0, 0, 1, 1, 1, 1, 0, 0, 0, 1, 0, 1, 0, 0, 0, 0, 0,\n",
       "       0, 1, 1, 0, 1, 0, 1, 1, 0, 1, 0, 1, 1, 0, 0, 1, 0], dtype=int64)"
      ]
     },
     "execution_count": 229,
     "metadata": {},
     "output_type": "execute_result"
    }
   ],
   "source": [
    "yp_svm = svm.predict(x_test)\n",
    "yp_svm"
   ]
  },
  {
   "cell_type": "markdown",
   "id": "bc7a9d30",
   "metadata": {},
   "source": [
    "# Naive Byes Classifier"
   ]
  },
  {
   "cell_type": "code",
   "execution_count": 230,
   "id": "b1c01bb0",
   "metadata": {},
   "outputs": [
    {
     "data": {
      "text/plain": [
       "GaussianNB()"
      ]
     },
     "execution_count": 230,
     "metadata": {},
     "output_type": "execute_result"
    }
   ],
   "source": [
    "from sklearn.naive_bayes import GaussianNB\n",
    "\n",
    "nb=GaussianNB()\n",
    "nb.fit(x_train, y_train)"
   ]
  },
  {
   "cell_type": "code",
   "execution_count": 231,
   "id": "dbf2ff4a",
   "metadata": {},
   "outputs": [
    {
     "data": {
      "text/plain": [
       "array([0, 0, 0, 0, 0, 0, 0, 0, 0, 0, 1, 0, 1, 1, 1, 0, 1, 0, 1, 0, 1, 1,\n",
       "       0, 0, 0, 0, 0, 0, 0, 1, 0, 1, 0, 0, 0, 1, 1, 0, 0, 0, 0, 0, 0, 0,\n",
       "       0, 1, 1, 0, 1, 0, 0, 0, 0, 1, 0, 1, 0, 0, 0, 1, 0], dtype=int64)"
      ]
     },
     "execution_count": 231,
     "metadata": {},
     "output_type": "execute_result"
    }
   ],
   "source": [
    "yp_nb = nb.predict(x_test)\n",
    "yp_nb"
   ]
  },
  {
   "cell_type": "markdown",
   "id": "e711fae5",
   "metadata": {},
   "source": [
    "# Decision Tree classifier"
   ]
  },
  {
   "cell_type": "code",
   "execution_count": 232,
   "id": "1da16732",
   "metadata": {},
   "outputs": [
    {
     "data": {
      "text/plain": [
       "DecisionTreeClassifier()"
      ]
     },
     "execution_count": 232,
     "metadata": {},
     "output_type": "execute_result"
    }
   ],
   "source": [
    "from sklearn import tree\n",
    "\n",
    "tr = tree.DecisionTreeClassifier()\n",
    "tr.fit(x_train, y_train)"
   ]
  },
  {
   "cell_type": "code",
   "execution_count": 233,
   "id": "ae30a6c0",
   "metadata": {},
   "outputs": [
    {
     "data": {
      "text/plain": [
       "array([1, 0, 1, 0, 1, 1, 0, 1, 1, 1, 0, 0, 0, 1, 1, 0, 1, 0, 1, 0, 1, 1,\n",
       "       1, 1, 0, 0, 1, 1, 0, 1, 0, 1, 0, 0, 0, 1, 1, 0, 0, 1, 1, 1, 0, 0,\n",
       "       0, 1, 1, 1, 1, 1, 0, 0, 0, 1, 0, 1, 0, 0, 1, 1, 0], dtype=int64)"
      ]
     },
     "execution_count": 233,
     "metadata": {},
     "output_type": "execute_result"
    }
   ],
   "source": [
    "yp_tr = tr.predict(x_test)\n",
    "yp_tr"
   ]
  },
  {
   "cell_type": "markdown",
   "id": "a1c042a0",
   "metadata": {},
   "source": [
    "# Random Forest Classifier"
   ]
  },
  {
   "cell_type": "code",
   "execution_count": 234,
   "id": "1a91c102",
   "metadata": {},
   "outputs": [
    {
     "data": {
      "text/plain": [
       "RandomForestClassifier(n_estimators=500)"
      ]
     },
     "execution_count": 234,
     "metadata": {},
     "output_type": "execute_result"
    }
   ],
   "source": [
    "from sklearn.ensemble import RandomForestClassifier\n",
    "\n",
    "rf = RandomForestClassifier(n_estimators=500)\n",
    "rf.fit(x_train,y_train)"
   ]
  },
  {
   "cell_type": "code",
   "execution_count": 235,
   "id": "ff1fc2a2",
   "metadata": {},
   "outputs": [
    {
     "data": {
      "text/plain": [
       "array([1, 0, 1, 1, 1, 0, 0, 1, 0, 0, 1, 1, 1, 1, 1, 0, 1, 0, 1, 1, 1, 1,\n",
       "       0, 1, 0, 1, 1, 1, 0, 1, 0, 1, 1, 0, 0, 1, 1, 0, 0, 1, 1, 1, 0, 0,\n",
       "       0, 1, 0, 1, 1, 1, 0, 1, 0, 1, 0, 0, 0, 0, 1, 1, 0], dtype=int64)"
      ]
     },
     "execution_count": 235,
     "metadata": {},
     "output_type": "execute_result"
    }
   ],
   "source": [
    "yp_rf = rf.predict(x_test)\n",
    "yp_rf"
   ]
  },
  {
   "cell_type": "markdown",
   "id": "cb72b069",
   "metadata": {},
   "source": [
    "# Performance Evaluation"
   ]
  },
  {
   "cell_type": "code",
   "execution_count": 236,
   "id": "ae0952aa",
   "metadata": {},
   "outputs": [
    {
     "name": "stdout",
     "output_type": "stream",
     "text": [
      "Accuracy_score of Logistic Regression:  0.5409836065573771\n",
      "Accuracy_score of SVM(kernel-linear):  0.6229508196721312\n",
      "Accuracy_score of Naive Bayes:  0.6065573770491803\n",
      "Accuracy_score of Decision Tree:  0.6557377049180327\n",
      "Accuracy_score of Random Forest:  0.7213114754098361\n"
     ]
    }
   ],
   "source": [
    "#accuracy score of models\n",
    "\n",
    "from sklearn import metrics\n",
    "print(\"Accuracy_score of Logistic Regression: \", metrics.accuracy_score(y_test, yp_lr))\n",
    "print(\"Accuracy_score of SVM(kernel-linear): \", metrics.accuracy_score(y_test, yp_svm))\n",
    "print(\"Accuracy_score of Naive Bayes: \", metrics.accuracy_score(y_test, yp_nb))\n",
    "print(\"Accuracy_score of Decision Tree: \", metrics.accuracy_score(y_test, yp_tr))\n",
    "print(\"Accuracy_score of Random Forest: \", metrics.accuracy_score(y_test, yp_rf))\n"
   ]
  },
  {
   "cell_type": "markdown",
   "id": "8f4a9fcd",
   "metadata": {},
   "source": [
    "# Classification Report"
   ]
  },
  {
   "cell_type": "code",
   "execution_count": 237,
   "id": "1b81d68f",
   "metadata": {},
   "outputs": [
    {
     "name": "stdout",
     "output_type": "stream",
     "text": [
      "Classification Report of Logistic Regression: \n",
      "\n",
      "              precision    recall  f1-score   support\n",
      "\n",
      "           0       0.54      0.61      0.58        31\n",
      "           1       0.54      0.47      0.50        30\n",
      "\n",
      "    accuracy                           0.54        61\n",
      "   macro avg       0.54      0.54      0.54        61\n",
      "weighted avg       0.54      0.54      0.54        61\n",
      "\n"
     ]
    }
   ],
   "source": [
    "print(\"Classification Report of Logistic Regression: \\n\")\n",
    "print(metrics.classification_report(y_test, yp_lr))"
   ]
  },
  {
   "cell_type": "code",
   "execution_count": 238,
   "id": "cffe7116",
   "metadata": {},
   "outputs": [
    {
     "name": "stdout",
     "output_type": "stream",
     "text": [
      "Classification Report of SVM(kernel-linear): \n",
      "\n",
      "              precision    recall  f1-score   support\n",
      "\n",
      "           0       0.62      0.68      0.65        31\n",
      "           1       0.63      0.57      0.60        30\n",
      "\n",
      "    accuracy                           0.62        61\n",
      "   macro avg       0.62      0.62      0.62        61\n",
      "weighted avg       0.62      0.62      0.62        61\n",
      "\n"
     ]
    }
   ],
   "source": [
    "print(\"Classification Report of SVM(kernel-linear): \\n\")\n",
    "print(metrics.classification_report(y_test, yp_svm))"
   ]
  },
  {
   "cell_type": "code",
   "execution_count": 239,
   "id": "bf06f367",
   "metadata": {},
   "outputs": [
    {
     "name": "stdout",
     "output_type": "stream",
     "text": [
      "Classification Report of Naive Bayes: \n",
      "\n",
      "              precision    recall  f1-score   support\n",
      "\n",
      "           0       0.58      0.81      0.68        31\n",
      "           1       0.67      0.40      0.50        30\n",
      "\n",
      "    accuracy                           0.61        61\n",
      "   macro avg       0.62      0.60      0.59        61\n",
      "weighted avg       0.62      0.61      0.59        61\n",
      "\n"
     ]
    }
   ],
   "source": [
    "print(\"Classification Report of Naive Bayes: \\n\")\n",
    "print(metrics.classification_report(y_test, yp_nb))"
   ]
  },
  {
   "cell_type": "code",
   "execution_count": 240,
   "id": "371b439c",
   "metadata": {},
   "outputs": [
    {
     "name": "stdout",
     "output_type": "stream",
     "text": [
      "Classification Report of Decision Tree: \n",
      "\n",
      "              precision    recall  f1-score   support\n",
      "\n",
      "           0       0.68      0.61      0.64        31\n",
      "           1       0.64      0.70      0.67        30\n",
      "\n",
      "    accuracy                           0.66        61\n",
      "   macro avg       0.66      0.66      0.66        61\n",
      "weighted avg       0.66      0.66      0.66        61\n",
      "\n"
     ]
    }
   ],
   "source": [
    "print(\"Classification Report of Decision Tree: \\n\")\n",
    "print(metrics.classification_report(y_test, yp_tr))"
   ]
  },
  {
   "cell_type": "code",
   "execution_count": 241,
   "id": "5d0ec5ff",
   "metadata": {},
   "outputs": [
    {
     "name": "stdout",
     "output_type": "stream",
     "text": [
      "Classification Report of Random Forest: \n",
      "\n",
      "              precision    recall  f1-score   support\n",
      "\n",
      "           0       0.77      0.65      0.70        31\n",
      "           1       0.69      0.80      0.74        30\n",
      "\n",
      "    accuracy                           0.72        61\n",
      "   macro avg       0.73      0.72      0.72        61\n",
      "weighted avg       0.73      0.72      0.72        61\n",
      "\n"
     ]
    }
   ],
   "source": [
    "print(\"Classification Report of Random Forest: \\n\")\n",
    "print(metrics.classification_report(y_test, yp_rf))"
   ]
  },
  {
   "cell_type": "markdown",
   "id": "ae475f65",
   "metadata": {},
   "source": [
    "# Confusion Matrix"
   ]
  },
  {
   "cell_type": "markdown",
   "id": "b71253c3",
   "metadata": {},
   "source": [
    "# Logistic Regression"
   ]
  },
  {
   "cell_type": "code",
   "execution_count": 242,
   "id": "ebfd0e56",
   "metadata": {},
   "outputs": [
    {
     "data": {
      "text/plain": [
       "array([[19, 12],\n",
       "       [16, 14]], dtype=int64)"
      ]
     },
     "execution_count": 242,
     "metadata": {},
     "output_type": "execute_result"
    }
   ],
   "source": [
    "cm_lr = metrics.confusion_matrix(y_test, yp_lr)\n",
    "cm_lr"
   ]
  },
  {
   "cell_type": "code",
   "execution_count": 243,
   "id": "9b5bfd31",
   "metadata": {},
   "outputs": [
    {
     "data": {
      "text/plain": [
       "Text(51.0, 0.5, 'True Value')"
      ]
     },
     "execution_count": 243,
     "metadata": {},
     "output_type": "execute_result"
    },
    {
     "data": {
      "image/png": "[encoded data removed]",
      "text/plain": [
       "<Figure size 576x432 with 2 Axes>"
      ]
     },
     "metadata": {
      "needs_background": "light"
     },
     "output_type": "display_data"
    }
   ],
   "source": [
    "plt.figure(figsize = (8,6))\n",
    "sns.heatmap(cm_lr, annot = True)\n",
    "plt.title(\"Confusion Matrix of Logistic Regression\")\n",
    "plt.xlabel(\"Predicted Value\")\n",
    "plt.ylabel(\"True Value\")"
   ]
  },
  {
   "cell_type": "markdown",
   "id": "2c14c2f3",
   "metadata": {},
   "source": [
    "# SVM"
   ]
  },
  {
   "cell_type": "code",
   "execution_count": 244,
   "id": "b3381a03",
   "metadata": {},
   "outputs": [
    {
     "data": {
      "text/plain": [
       "array([[21, 10],\n",
       "       [13, 17]], dtype=int64)"
      ]
     },
     "execution_count": 244,
     "metadata": {},
     "output_type": "execute_result"
    }
   ],
   "source": [
    "cm_svm = metrics.confusion_matrix(y_test, yp_svm)\n",
    "cm_svm"
   ]
  },
  {
   "cell_type": "code",
   "execution_count": 245,
   "id": "03597318",
   "metadata": {},
   "outputs": [
    {
     "data": {
      "text/plain": [
       "Text(51.0, 0.5, 'True Value')"
      ]
     },
     "execution_count": 245,
     "metadata": {},
     "output_type": "execute_result"
    },
    {
     "data": {
      "image/png": "[encoded data removed]",
      "text/plain": [
       "<Figure size 576x432 with 2 Axes>"
      ]
     },
     "metadata": {
      "needs_background": "light"
     },
     "output_type": "display_data"
    }
   ],
   "source": [
    "plt.figure(figsize = (8,6))\n",
    "sns.heatmap(cm_svm, annot = True)\n",
    "plt.title(\"Confusion Matrix of SVM(kernel-linear)\")\n",
    "plt.xlabel(\"Predicted Value\")\n",
    "plt.ylabel(\"True Value\")"
   ]
  },
  {
   "cell_type": "markdown",
   "id": "d25746d7",
   "metadata": {},
   "source": [
    "# Naive Bayes"
   ]
  },
  {
   "cell_type": "code",
   "execution_count": 246,
   "id": "9114da6d",
   "metadata": {},
   "outputs": [
    {
     "data": {
      "text/plain": [
       "array([[25,  6],\n",
       "       [18, 12]], dtype=int64)"
      ]
     },
     "execution_count": 246,
     "metadata": {},
     "output_type": "execute_result"
    }
   ],
   "source": [
    "cm_nb = metrics.confusion_matrix(y_test, yp_nb)\n",
    "cm_nb"
   ]
  },
  {
   "cell_type": "code",
   "execution_count": 247,
   "id": "50718434",
   "metadata": {},
   "outputs": [
    {
     "data": {
      "text/plain": [
       "Text(51.0, 0.5, 'True Value')"
      ]
     },
     "execution_count": 247,
     "metadata": {},
     "output_type": "execute_result"
    },
    {
     "data": {
      "image/png": "[encoded data removed]",
      "text/plain": [
       "<Figure size 576x432 with 2 Axes>"
      ]
     },
     "metadata": {
      "needs_background": "light"
     },
     "output_type": "display_data"
    }
   ],
   "source": [
    "plt.figure(figsize = (8,6))\n",
    "sns.heatmap(cm_nb, annot = True)\n",
    "plt.title(\"Confusion Matrix of Naive Bayes\")\n",
    "plt.xlabel(\"Predicted Value\")\n",
    "plt.ylabel(\"True Value\")"
   ]
  },
  {
   "cell_type": "markdown",
   "id": "2d63ea2f",
   "metadata": {},
   "source": [
    "# Decision Tree"
   ]
  },
  {
   "cell_type": "code",
   "execution_count": 248,
   "id": "fc04258c",
   "metadata": {},
   "outputs": [
    {
     "data": {
      "text/plain": [
       "array([[19, 12],\n",
       "       [ 9, 21]], dtype=int64)"
      ]
     },
     "execution_count": 248,
     "metadata": {},
     "output_type": "execute_result"
    }
   ],
   "source": [
    "cm_tr = metrics.confusion_matrix(y_test, yp_tr)\n",
    "cm_tr"
   ]
  },
  {
   "cell_type": "code",
   "execution_count": 249,
   "id": "c43dee5b",
   "metadata": {},
   "outputs": [
    {
     "data": {
      "text/plain": [
       "Text(51.0, 0.5, 'True Value')"
      ]
     },
     "execution_count": 249,
     "metadata": {},
     "output_type": "execute_result"
    },
    {
     "data": {
      "image/png": "[encoded data removed]",
      "text/plain": [
       "<Figure size 576x432 with 2 Axes>"
      ]
     },
     "metadata": {
      "needs_background": "light"
     },
     "output_type": "display_data"
    }
   ],
   "source": [
    "plt.figure(figsize = (8,6))\n",
    "sns.heatmap(cm_tr, annot = True)\n",
    "plt.title(\"Confusion Matrix of Decision Tree\")\n",
    "plt.xlabel(\"Predicted Value\")\n",
    "plt.ylabel(\"True Value\")"
   ]
  },
  {
   "cell_type": "markdown",
   "id": "9adf7c1f",
   "metadata": {},
   "source": [
    "# Random Forest"
   ]
  },
  {
   "cell_type": "code",
   "execution_count": 250,
   "id": "aa73bba6",
   "metadata": {},
   "outputs": [
    {
     "data": {
      "text/plain": [
       "array([[20, 11],\n",
       "       [ 6, 24]], dtype=int64)"
      ]
     },
     "execution_count": 250,
     "metadata": {},
     "output_type": "execute_result"
    }
   ],
   "source": [
    "cm_rf = metrics.confusion_matrix(y_test, yp_rf)\n",
    "cm_rf"
   ]
  },
  {
   "cell_type": "code",
   "execution_count": 251,
   "id": "cce07629",
   "metadata": {},
   "outputs": [
    {
     "data": {
      "text/plain": [
       "Text(51.0, 0.5, 'True Value')"
      ]
     },
     "execution_count": 251,
     "metadata": {},
     "output_type": "execute_result"
    },
    {
     "data": {
      "image/png": "[encoded data removed]",
      "text/plain": [
       "<Figure size 576x432 with 2 Axes>"
      ]
     },
     "metadata": {
      "needs_background": "light"
     },
     "output_type": "display_data"
    }
   ],
   "source": [
    "plt.figure(figsize = (8,6))\n",
    "sns.heatmap(cm_rf, annot = True)\n",
    "plt.title(\"Confusion Matrix of Random Forest)\")\n",
    "plt.xlabel(\"Predicted Value\")\n",
    "plt.ylabel(\"True Value\")"
   ]
  },
  {
   "cell_type": "markdown",
   "id": "ed1ea339",
   "metadata": {},
   "source": [
    "# k-Fold Cross Validation Score"
   ]
  },
  {
   "cell_type": "code",
   "execution_count": 252,
   "id": "3d86e9e7",
   "metadata": {},
   "outputs": [],
   "source": [
    "from sklearn.model_selection import cross_val_score"
   ]
  },
  {
   "cell_type": "code",
   "execution_count": 253,
   "id": "18dcb221",
   "metadata": {},
   "outputs": [],
   "source": [
    "cv_score_lr = cross_val_score(lr, x_res, y_res, cv = 10)\n",
    "\n",
    "cv_score_svm = cross_val_score(svm, x_res, y_res, cv = 10)\n",
    "\n",
    "cv_score_nb = cross_val_score(nb, x_res, y_res, cv = 10)\n",
    "\n",
    "cv_score_tr = cross_val_score(tr, x_res, y_res, cv = 10)\n",
    "\n",
    "cv_score_rf = cross_val_score(rf, x_res, y_res, cv = 10)"
   ]
  },
  {
   "cell_type": "code",
   "execution_count": 254,
   "id": "7c2c48ef",
   "metadata": {},
   "outputs": [
    {
     "name": "stdout",
     "output_type": "stream",
     "text": [
      "Logistic Regression:\n",
      "\n",
      "[0.61904762 0.71428571 0.4        0.6        0.5        0.6\n",
      " 0.5        0.4        0.5        0.35      ] \n",
      "\n",
      "SVM:\n",
      "\n",
      "[0.57142857 0.52380952 0.5        0.6        0.5        0.6\n",
      " 0.5        0.4        0.55       0.55      ] \n",
      "\n",
      "Naive Bayes:\n",
      "\n",
      "[0.66666667 0.76190476 0.5        0.6        0.55       0.7\n",
      " 0.55       0.4        0.5        0.6       ] \n",
      "\n",
      "Decision Tree:\n",
      "\n",
      "[0.57142857 0.47619048 0.6        0.6        0.65       0.7\n",
      " 0.5        0.75       0.75       0.7       ] \n",
      "\n",
      "Random Forest:\n",
      "\n",
      "[0.71428571 0.66666667 0.5        0.7        0.65       0.85\n",
      " 0.7        0.7        0.7        0.8       ] \n",
      "\n"
     ]
    }
   ],
   "source": [
    "print(\"Logistic Regression:\\n\")\n",
    "print(cv_score_lr, \"\\n\")\n",
    "\n",
    "print(\"SVM:\\n\")\n",
    "print(cv_score_svm, \"\\n\")\n",
    "\n",
    "print(\"Naive Bayes:\\n\")\n",
    "print(cv_score_nb, \"\\n\")\n",
    "\n",
    "print(\"Decision Tree:\\n\")\n",
    "print(cv_score_tr, \"\\n\")\n",
    "\n",
    "print(\"Random Forest:\\n\")\n",
    "print(cv_score_rf, \"\\n\")"
   ]
  },
  {
   "cell_type": "code",
   "execution_count": 255,
   "id": "52d039d4",
   "metadata": {},
   "outputs": [
    {
     "name": "stdout",
     "output_type": "stream",
     "text": [
      "Accuracy of Logistic Regression: 0.52\n",
      "Accuracy of SVM: 0.53\n",
      "Accuracy of Naive Bayes: 0.58\n",
      "Accuracy of Decision Tree: 0.63\n",
      "Accuracy of Random Forest: 0.70\n"
     ]
    }
   ],
   "source": [
    "# Accuracy of the models\n",
    "print(\"Accuracy of Logistic Regression: %0.2f\" % (cv_score_lr.mean()))\n",
    "\n",
    "print(\"Accuracy of SVM: %0.2f\" % (cv_score_svm.mean()))\n",
    "\n",
    "print(\"Accuracy of Naive Bayes: %0.2f\" % (cv_score_nb.mean()))\n",
    "\n",
    "print(\"Accuracy of Decision Tree: %0.2f\" % (cv_score_tr.mean()))\n",
    "\n",
    "print(\"Accuracy of Random Forest: %0.2f\" % (cv_score_rf.mean()))"
   ]
  },
  {
   "cell_type": "markdown",
   "id": "755ef87e",
   "metadata": {},
   "source": [
    "# Receiver Operating Characteristic Curve(ROC) & Area Under the Curve(AUC)"
   ]
  },
  {
   "cell_type": "code",
   "execution_count": 256,
   "id": "50f88182",
   "metadata": {},
   "outputs": [],
   "source": [
    "#Output probabilities of models\n",
    "\n",
    "probs_lr = lr.predict_proba(x_test)[:, 1]\n",
    "\n",
    "probs_svm = svm.predict_proba(x_test)[:, 1]\n",
    "\n",
    "probs_nb = nb.predict_proba(x_test)[:, 1]\n",
    "\n",
    "probs_tr = tr.predict_proba(x_test)[:, 1]\n",
    "\n",
    "probs_rf = rf.predict_proba(x_test)[:, 1]"
   ]
  },
  {
   "cell_type": "code",
   "execution_count": 257,
   "id": "c108a1af",
   "metadata": {},
   "outputs": [],
   "source": [
    "#importing roc_curve and auc from library\n",
    "\n",
    "from sklearn.metrics import roc_curve,auc"
   ]
  },
  {
   "cell_type": "code",
   "execution_count": 258,
   "id": "68fec793",
   "metadata": {},
   "outputs": [],
   "source": [
    "fpr_lr, tpr_lr, threshold_lr = roc_curve(y_test, probs_lr)\n",
    "\n",
    "fpr_svm, tpr_svm, threshold_svm = roc_curve(y_test, probs_svm)\n",
    "\n",
    "fpr_nb, tpr_nb, threshold_nb = roc_curve(y_test, probs_nb)\n",
    "\n",
    "fpr_tr, tpr_tr, threshold_tr = roc_curve(y_test, probs_tr)\n",
    "\n",
    "fpr_rf, tpr_rf, threshold_rf = roc_curve(y_test, probs_rf)"
   ]
  },
  {
   "cell_type": "code",
   "execution_count": 259,
   "id": "4db8e36a",
   "metadata": {},
   "outputs": [],
   "source": [
    "#Computing auc of the models\n",
    "\n",
    "auc_lr = auc(fpr_lr, tpr_lr)\n",
    "\n",
    "auc_svm = auc(fpr_svm, tpr_svm)\n",
    "\n",
    "auc_nb = auc(fpr_nb, tpr_nb)\n",
    "\n",
    "auc_tr = auc(fpr_tr, tpr_tr)\n",
    "\n",
    "auc_rf = auc(fpr_rf, tpr_rf)"
   ]
  },
  {
   "cell_type": "code",
   "execution_count": 260,
   "id": "7fdbfea3",
   "metadata": {},
   "outputs": [
    {
     "name": "stdout",
     "output_type": "stream",
     "text": [
      "AUC of Logistic Regression:  0.5763440860215054\n",
      "AUC of SVM(kernel-linear):  0.5817204301075269\n",
      "AUC of Naive Bayes:  0.5774193548387097\n",
      "AUC of Decision Tree:  0.6666666666666667\n",
      "AUC of Random Forest:  0.8698924731182796\n"
     ]
    }
   ],
   "source": [
    "print(\"AUC of Logistic Regression: \", auc_lr)\n",
    "print(\"AUC of SVM(kernel-linear): \", auc_svm)\n",
    "print(\"AUC of Naive Bayes: \", auc_nb)\n",
    "print(\"AUC of Decision Tree: \", auc_tr)\n",
    "print(\"AUC of Random Forest: \", auc_rf)"
   ]
  },
  {
   "cell_type": "code",
   "execution_count": 261,
   "id": "bbdba744",
   "metadata": {},
   "outputs": [
    {
     "data": {
      "image/png": "[encoded data removed]",
      "text/plain": [
       "<Figure size 720x576 with 1 Axes>"
      ]
     },
     "metadata": {
      "needs_background": "light"
     },
     "output_type": "display_data"
    }
   ],
   "source": [
    "# plotting ROC curve\n",
    "\n",
    "plt.figure(figsize = (10,8))\n",
    "plt.plot(fpr_lr, tpr_lr, linestyle = \"dashed\", label = \"Logistic Regression(auc = %.3f)\"%auc_lr)\n",
    "\n",
    "plt.plot(fpr_svm, tpr_svm, linestyle = \"dashed\", label = \"SVM(kernel-linear)(auc = %.3f)\"%auc_svm)\n",
    "\n",
    "plt.plot(fpr_nb, tpr_nb, linestyle = \"dashed\", label = \"Naive Bayes(auc = %.3f)\"%auc_nb)\n",
    "\n",
    "plt.plot(fpr_tr, tpr_tr, label = \"Decision Tree(auc = %.3f)\"%auc_tr)\n",
    "\n",
    "plt.plot(fpr_rf, tpr_rf, label = \"Random Forest(auc = %.3f)\"%auc_rf)\n",
    "\n",
    "plt.title(\"Receiver Operating Characteristic(ROC) Curve\")\n",
    "plt.xlabel(\"False Positive Rate\")\n",
    "plt.ylabel(\"True Positive Rate\")\n",
    "plt.legend(loc = \"lower right\")\n",
    "plt.show()"
   ]
  },
  {
   "cell_type": "markdown",
   "id": "d6775960",
   "metadata": {},
   "source": [
    "# Prediction"
   ]
  },
  {
   "cell_type": "code",
   "execution_count": 262,
   "id": "5181985f",
   "metadata": {},
   "outputs": [],
   "source": [
    "def user_info():\n",
    "    print(\"Enter Your Information: \\n\")\n",
    "    print(\"Age Group:\\n 18-23\\n 24-30\\n more than 30\")\n",
    "    Age = input(\"Enter age group: \")\n",
    "\n",
    "    print(\"\\nGender:\\n Male\\n Female\")\n",
    "    Gender = input(\"Enter Gender: \")\n",
    "\n",
    "    print(\"\\nEducation Level:\\n S.S.C\\n H.S.C\\n Graduate\\n Post-graduate\")\n",
    "    Education = input(\"Enter Education Level: \")\n",
    "\n",
    "    print(\"\\nHousehold Income:\\n less than 20000\\n 20000-34999\\n 35000-50000\\n more than 50000\")\n",
    "    Income = input(\"Enter Monthly Household Income: \")\n",
    "\n",
    "    print(\"\\nProfession:\\n Student\\n Unemployed\\n Govt.\\n Private\\n Business\")\n",
    "    Employment = input(\"Enter Profession: \")\n",
    "\n",
    "    print(\"\\nMarital Status:\\n Single\\n Married\")\n",
    "    Marital_status = input(\"Enter Marital Status: \")\n",
    "\n",
    "    print(\"\\nPlease answer the following questions:\\n\")\n",
    "    Living_in_highly_affected_areas = input(\"Are you living in  highly affected areas?(Yes/No): \")\n",
    "    Knowing_infected_people = input(\"Do you know people in your immediate social environment who are or have been infected with COVID-19?(Yes/No/Suspected): \")\n",
    "    Close_contact_with_infected_person = input(\"Have had a close contact with a person who had covid-19?(Yes/No/Suspected): \")\n",
    "    Covid_infected = input(\"Are you, or have you been, infected with COVID-19?(Yes/No/Suspected): \")\n",
    "    Isolated = input(\"Have you been isolated because of COVID-19 pandemic?(Yes/No): \") \n",
    "    Working_outside_home = input(\"Are you working outside your home during COVID-19 pandemic?(Yes/No): \")\n",
    "    Fear_of_being_infected_or_infecting_loved_ones = input(\"Fear of being infected or fear of infecting loved ones?(Yes/No): \")\n",
    "    Family_or_friends_death = input(\"Death related to COVID-19 in family or friends?(Yes/No): \")\n",
    "    Chronic_illness = input(\"Do you have a chronic illness such as diabetes mellitus, hypertension, cancer or pulmonary diseases?(Yes/No): \")\n",
    "    Previous_psychiatric_history = input(\"Do you have any previous psychiatric history?(Yes/No): \")\n",
    "    \n",
    "    \n",
    "    info = [Age,Gender,Education,Income,Employment,Marital_status,Living_in_highly_affected_areas,Knowing_infected_people,Close_contact_with_infected_person,Covid_infected,Isolated,Working_outside_home,Fear_of_being_infected_or_infecting_loved_ones,Family_or_friends_death,Chronic_illness,Previous_psychiatric_history]\n",
    "    return info"
   ]
  },
  {
   "cell_type": "code",
   "execution_count": 274,
   "id": "5f0bffff",
   "metadata": {},
   "outputs": [],
   "source": [
    "def user_age(Age):\n",
    "    if Age in age_order:\n",
    "        userage = ordinal_encoder_1.fit_transform([[Age]])\n",
    "        \n",
    "    else:\n",
    "        print(\"Input Error!\")\n",
    "    return userage[0][0]"
   ]
  },
  {
   "cell_type": "code",
   "execution_count": 275,
   "id": "0c8f8b02",
   "metadata": {},
   "outputs": [],
   "source": [
    "gender_list = [\"Male\", \"Female\"]\n",
    "def user_gender(Gender):\n",
    "    if Gender in gender_list:\n",
    "        if(Gender == gender_list[0]):\n",
    "            usergender = 0\n",
    "        else:\n",
    "            usergender = 1 \n",
    "        \n",
    "    else:\n",
    "        print(\"Input Error!\")\n",
    "    return usergender"
   ]
  },
  {
   "cell_type": "code",
   "execution_count": 276,
   "id": "db5698c9",
   "metadata": {},
   "outputs": [],
   "source": [
    "def user_education(Education):\n",
    "    if Education in education_order:\n",
    "        useredu = ordinal_encoder_2.fit_transform([[Education]])\n",
    "        \n",
    "    else:\n",
    "        print(\"Input Error!\")\n",
    "    return useredu[0][0]"
   ]
  },
  {
   "cell_type": "code",
   "execution_count": 277,
   "id": "a50719d9",
   "metadata": {},
   "outputs": [],
   "source": [
    "def user_income(Income):\n",
    "    if Income in household_income_order:\n",
    "        userincome = ordinal_encoder_3.fit_transform([[Income]])\n",
    "        \n",
    "    else:\n",
    "        print(\"Input Error!\")\n",
    "    return userincome[0][0]"
   ]
  },
  {
   "cell_type": "code",
   "execution_count": 278,
   "id": "a31b25c2",
   "metadata": {},
   "outputs": [],
   "source": [
    "profession_list = dataset[\"employment\"].unique()\n",
    "def user_profession(Employment):\n",
    "    if Employment in profession_list:\n",
    "        if Employment == \"Business\":\n",
    "            userprof = 0\n",
    "        elif Employment == \"Govt.\":\n",
    "            userprof = 1\n",
    "        elif Employment == \"Private\":\n",
    "            userprof = 2\n",
    "        elif Employment == \"Student\":\n",
    "            userprof = 3\n",
    "        else:\n",
    "            userprof = 4\n",
    "        \n",
    "    else:\n",
    "        print(\"Input Error!\")\n",
    "    return userprof"
   ]
  },
  {
   "cell_type": "code",
   "execution_count": 279,
   "id": "0775f0a8",
   "metadata": {},
   "outputs": [],
   "source": [
    "\n",
    "def user_marital_status(Marital_status):\n",
    "    if Marital_status in dataset.marital_status.unique():\n",
    "        if Marital_status == \"Single\":\n",
    "            usermarital_status = 0\n",
    "        else:\n",
    "            usermarital_status = 1\n",
    "        \n",
    "    else :\n",
    "        print(\"Input Error!\")\n",
    "    return usermarital_status"
   ]
  },
  {
   "cell_type": "code",
   "execution_count": 280,
   "id": "e6a0e1ef",
   "metadata": {},
   "outputs": [],
   "source": [
    "ans_list = [\"Yes\", \"No\", \"Suspected\"]\n",
    "def user_ans(answer):\n",
    "    if answer in ans_list:\n",
    "        \n",
    "        if answer == \"No\":\n",
    "            answer = 0\n",
    "        elif answer == \"Yes\":\n",
    "            answer = 1\n",
    "        else:\n",
    "            answer = 2\n",
    "    else:\n",
    "        print(\"Input Error!\")\n",
    "    \n",
    "    return answer"
   ]
  },
  {
   "cell_type": "code",
   "execution_count": 287,
   "id": "ae2a00cf",
   "metadata": {},
   "outputs": [],
   "source": [
    "def make_prediction():\n",
    "    d = user_info()\n",
    "    age_in = user_age(d[0])\n",
    "    gender_in = user_gender(d[1])\n",
    "    education_in = user_education(d[2])\n",
    "    income_in = user_income(d[3])\n",
    "    employment_in = user_profession(d[4])\n",
    "    marital_status_in = user_marital_status(d[5])\n",
    "    ans_1 = user_ans(d[6])\n",
    "    ans_2 = user_ans(d[7])\n",
    "    ans_3 = user_ans(d[8])\n",
    "    ans_4 = user_ans(d[9])\n",
    "    ans_5 = user_ans(d[10])\n",
    "    ans_6 = user_ans(d[11])\n",
    "    ans_7 = user_ans(d[12])\n",
    "    ans_8 = user_ans(d[13])\n",
    "    ans_9 = user_ans(d[14])\n",
    "    ans_10 = user_ans(d[15])\n",
    "    \n",
    "    user_input = [age_in,gender_in,education_in,income_in,employment_in,marital_status_in,ans_1,ans_2, ans_3, ans_4,ans_5,ans_6,ans_7,ans_8,ans_9,ans_10]\n",
    "    print(\"\\n\\nUser Input: \", user_input)\n",
    "    risk = rf.predict([user_input])\n",
    "    if risk[0] == 0:\n",
    "        print(\"PTSD Risk: No\")\n",
    "    else:\n",
    "        print(\"PTSD Risk: Yes\")"
   ]
  },
  {
   "cell_type": "code",
   "execution_count": 288,
   "id": "88e65928",
   "metadata": {},
   "outputs": [
    {
     "name": "stdout",
     "output_type": "stream",
     "text": [
      "Enter Your Information: \n",
      "\n",
      "Age Group:\n",
      " 18-23\n",
      " 24-30\n",
      " more than 30\n",
      "Enter age group: 24-30\n",
      "\n",
      "Gender:\n",
      " Male\n",
      " Female\n",
      "Enter Gender: Female\n",
      "\n",
      "Education Level:\n",
      " S.S.C\n",
      " H.S.C\n",
      " Graduate\n",
      " Post-graduate\n",
      "Enter Education Level: Graduate\n",
      "\n",
      "Household Income:\n",
      " less than 20000\n",
      " 20000-34999\n",
      " 35000-50000\n",
      " more than 50000\n",
      "Enter Monthly Household Income: 35000-50000\n",
      "\n",
      "Profession:\n",
      " Student\n",
      " Unemployed\n",
      " Govt.\n",
      " Private\n",
      " Business\n",
      "Enter Profession: Student\n",
      "\n",
      "Marital Status:\n",
      " Single\n",
      " Married\n",
      "Enter Marital Status: Single\n",
      "\n",
      "Please answer the following questions:\n",
      "\n",
      "Are you living in  highly affected areas?(Yes/No): No\n",
      "Do you know people in your immediate social environment who are or have been infected with COVID-19?(Yes/No/Suspected): No\n",
      "Have had a close contact with a person who had covid-19?(Yes/No/Suspected): No\n",
      "Are you, or have you been, infected with COVID-19?(Yes/No/Suspected): No\n",
      "Have you been isolated because of COVID-19 pandemic?(Yes/No): No\n",
      "Are you working outside your home during COVID-19 pandemic?(Yes/No): No\n",
      "Fear of being infected or fear of infecting loved ones?(Yes/No): Yes\n",
      "Death related to COVID-19 in family or friends?(Yes/No): No\n",
      "Do you have a chronic illness such as diabetes mellitus, hypertension, cancer or pulmonary diseases?(Yes/No): No\n",
      "Do you have any previous psychiatric history?(Yes/No): No\n",
      "\n",
      "\n",
      "User Input:  [1, 1, 2, 2, 3, 0, 0, 0, 0, 0, 0, 0, 1, 0, 0, 0]\n",
      "PTSD Risk: No\n"
     ]
    }
   ],
   "source": [
    "make_prediction()"
   ]
  },
  {
   "cell_type": "code",
   "execution_count": 283,
   "id": "bfa680e9",
   "metadata": {},
   "outputs": [
    {
     "data": {
      "text/plain": [
       "array([0], dtype=int64)"
      ]
     },
     "execution_count": 283,
     "metadata": {},
     "output_type": "execute_result"
    }
   ],
   "source": [
    "rf.predict([[0, 0, 2, 2, 3, 0, 0, 0, 0, 0, 0, 0, 1, 0, 0, 0]])"
   ]
  },
  {
   "cell_type": "code",
   "execution_count": null,
   "id": "562c4e29",
   "metadata": {},
   "outputs": [],
   "source": []
  }
 ],
 "metadata": {
  "kernelspec": {
   "display_name": "Python 3",
   "language": "python",
   "name": "python3"
  },
  "language_info": {
   "codemirror_mode": {
    "name": "ipython",
    "version": 3
   },
   "file_extension": ".py",
   "mimetype": "text/x-python",
   "name": "python",
   "nbconvert_exporter": "python",
   "pygments_lexer": "ipython3",
   "version": "3.8.4"
  }
 },
 "nbformat": 4,
 "nbformat_minor": 5
}
